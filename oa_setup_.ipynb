{
 "cells": [
  {
   "cell_type": "code",
   "execution_count": 1,
   "metadata": {},
   "outputs": [],
   "source": [
    "import os\n",
    "import numpy as np\n",
    "import pandas as pd\n",
    "import matplotlib.pyplot as plt\n",
    "plt.style.use(\"ggplot\")\n",
    "plt.rcParams[\"figure.figsize\"] = (5,3)"
   ]
  },
  {
   "cell_type": "code",
   "execution_count": 2,
   "metadata": {},
   "outputs": [],
   "source": [
    "PATH_FOLDER = os.getcwd()"
   ]
  },
  {
   "cell_type": "code",
   "execution_count": 3,
   "metadata": {},
   "outputs": [],
   "source": [
    "FILENAME_OA_OFFERS = \"\\\\offer_acceptance_offers.csv\"\n",
    "FILENAME_OA_ORDERS = \"\\\\offer_acceptance_orders.csv\"\n",
    "PATH_FILE_OA_OFFERS = PATH_FOLDER + FILENAME_OA_OFFERS\n",
    "PATH_FILE_OA_ORDERS = PATH_FOLDER + FILENAME_OA_ORDERS"
   ]
  },
  {
   "cell_type": "code",
   "execution_count": 4,
   "metadata": {},
   "outputs": [],
   "source": [
    "oa_offers_orig = pd.read_csv(PATH_FILE_OA_OFFERS)\n",
    "oa_orders_orig = pd.read_csv(PATH_FILE_OA_ORDERS)\n",
    "oa_offers = oa_offers_orig\n",
    "oa_orders = oa_orders_orig"
   ]
  },
  {
   "cell_type": "code",
   "execution_count": 25,
   "metadata": {},
   "outputs": [],
   "source": [
    "# EDA FUNCTIONS:\n",
    "def check_nulls(df):\n",
    "    return df.isnull().mean(axis=0)\n",
    "def plot_numerical_column_histogram(column, show_logged=False):\n",
    "    \"\"\"\n",
    "    Given a numerical column, plot the histogram.\n",
    "    If show_logged set to True, show a secondary version of the plot but logged\n",
    "    \n",
    "    Args:\n",
    "        column (pd.Series): numerical column. \n",
    "        show_logged (boolean): if set to true, shows if the column can look normal if logged. Only for right skewed columns inside 0 and inf\n",
    "    Returns:\n",
    "        None\n",
    "    \"\"\"\n",
    "    if show_logged==False:\n",
    "        fig, axs = plt.subplots(figsize=(5,5))\n",
    "        axs.hist(column)\n",
    "        axs.set_title(\"Histogram\")\n",
    "    else:\n",
    "        fig, axs = plt.subplots(1,2,figsize=(10,5))\n",
    "        axs[0].hist(column)\n",
    "        axs[0].set_title(\"Histogram\")\n",
    "        axs[1].hist(column.apply(np.log1p))\n",
    "        axs[1].set_title(\"Histogram - logged\")\n",
    "    return axs\n",
    "\n",
    "def show_categorical_column_value_counts(column, with_null=False):\n",
    "    \"\"\"\n",
    "    Shows frequency of categories in a categorical column\n",
    "    \n",
    "    Args:\n",
    "        column (pd.Series): categorical column. \n",
    "    Returns:\n",
    "        (pd.Series): the value_counts\n",
    "    \"\"\"\n",
    "    value_counts = column.value_counts(normalize=True)\n",
    "    return value_counts"
   ]
  },
  {
   "cell_type": "markdown",
   "metadata": {},
   "source": [
    "## **OA Offers**"
   ]
  },
  {
   "cell_type": "code",
   "execution_count": 7,
   "metadata": {
    "scrolled": false
   },
   "outputs": [
    {
     "data": {
      "text/html": [
       "<div>\n",
       "<style scoped>\n",
       "    .dataframe tbody tr th:only-of-type {\n",
       "        vertical-align: middle;\n",
       "    }\n",
       "\n",
       "    .dataframe tbody tr th {\n",
       "        vertical-align: top;\n",
       "    }\n",
       "\n",
       "    .dataframe thead th {\n",
       "        text-align: right;\n",
       "    }\n",
       "</style>\n",
       "<table border=\"1\" class=\"dataframe\">\n",
       "  <thead>\n",
       "    <tr style=\"text-align: right;\">\n",
       "      <th></th>\n",
       "      <th>CARRIER_ID</th>\n",
       "      <th>REFERENCE_NUMBER</th>\n",
       "      <th>CREATED_ON_HQ</th>\n",
       "      <th>RATE_USD</th>\n",
       "      <th>OFFER_TYPE</th>\n",
       "      <th>SELF_SERVE</th>\n",
       "      <th>IS_OFFER_APPROVED</th>\n",
       "      <th>AUTOMATICALLY_APPROVED</th>\n",
       "      <th>MANUALLY_APPROVED</th>\n",
       "      <th>WAS_EVER_UNCOVERED</th>\n",
       "      <th>COVERING_OFFER</th>\n",
       "      <th>LOAD_DELIVERED_FROM_OFFER</th>\n",
       "      <th>RECOMMENDED_LOAD</th>\n",
       "      <th>VALID</th>\n",
       "    </tr>\n",
       "  </thead>\n",
       "  <tbody>\n",
       "    <tr>\n",
       "      <th>0</th>\n",
       "      <td>0629d63476c157a6cfe234f7a34422eb0ad94998c2d082...</td>\n",
       "      <td>ce3548db155049cc1ccce2da041cec607942e4f779fc2d...</td>\n",
       "      <td>2021-11-03 08:54:13</td>\n",
       "      <td>9546.0</td>\n",
       "      <td>pool</td>\n",
       "      <td>1</td>\n",
       "      <td>0</td>\n",
       "      <td>0</td>\n",
       "      <td>0</td>\n",
       "      <td>0</td>\n",
       "      <td>0</td>\n",
       "      <td>0</td>\n",
       "      <td>1</td>\n",
       "      <td>1</td>\n",
       "    </tr>\n",
       "    <tr>\n",
       "      <th>1</th>\n",
       "      <td>0629d63476c157a6cfe234f7a34422eb0ad94998c2d082...</td>\n",
       "      <td>ce3548db155049cc1ccce2da041cec607942e4f779fc2d...</td>\n",
       "      <td>2021-11-03 08:57:27</td>\n",
       "      <td>9159.0</td>\n",
       "      <td>pool</td>\n",
       "      <td>1</td>\n",
       "      <td>1</td>\n",
       "      <td>0</td>\n",
       "      <td>1</td>\n",
       "      <td>0</td>\n",
       "      <td>1</td>\n",
       "      <td>1</td>\n",
       "      <td>1</td>\n",
       "      <td>1</td>\n",
       "    </tr>\n",
       "    <tr>\n",
       "      <th>2</th>\n",
       "      <td>0629d63476c157a6cfe234f7a34422eb0ad94998c2d082...</td>\n",
       "      <td>ce3548db155049cc1ccce2da041cec607942e4f779fc2d...</td>\n",
       "      <td>2021-11-03 08:57:28</td>\n",
       "      <td>9288.0</td>\n",
       "      <td>pool</td>\n",
       "      <td>0</td>\n",
       "      <td>0</td>\n",
       "      <td>0</td>\n",
       "      <td>0</td>\n",
       "      <td>0</td>\n",
       "      <td>0</td>\n",
       "      <td>0</td>\n",
       "      <td>0</td>\n",
       "      <td>1</td>\n",
       "    </tr>\n",
       "    <tr>\n",
       "      <th>3</th>\n",
       "      <td>0629d63476c157a6cfe234f7a34422eb0ad94998c2d082...</td>\n",
       "      <td>ce3548db155049cc1ccce2da041cec607942e4f779fc2d...</td>\n",
       "      <td>2021-11-03 08:57:40</td>\n",
       "      <td>9159.0</td>\n",
       "      <td>pool</td>\n",
       "      <td>0</td>\n",
       "      <td>1</td>\n",
       "      <td>0</td>\n",
       "      <td>1</td>\n",
       "      <td>0</td>\n",
       "      <td>0</td>\n",
       "      <td>0</td>\n",
       "      <td>0</td>\n",
       "      <td>1</td>\n",
       "    </tr>\n",
       "    <tr>\n",
       "      <th>4</th>\n",
       "      <td>16badfc6202cb3f8889e0f2779b19218af4cbb736e56ac...</td>\n",
       "      <td>ce3548db155049cc1ccce2da041cec607942e4f779fc2d...</td>\n",
       "      <td>2021-11-03 09:05:43</td>\n",
       "      <td>11610.0</td>\n",
       "      <td>pool</td>\n",
       "      <td>0</td>\n",
       "      <td>0</td>\n",
       "      <td>0</td>\n",
       "      <td>0</td>\n",
       "      <td>0</td>\n",
       "      <td>0</td>\n",
       "      <td>0</td>\n",
       "      <td>0</td>\n",
       "      <td>1</td>\n",
       "    </tr>\n",
       "  </tbody>\n",
       "</table>\n",
       "</div>"
      ],
      "text/plain": [
       "                                          CARRIER_ID  \\\n",
       "0  0629d63476c157a6cfe234f7a34422eb0ad94998c2d082...   \n",
       "1  0629d63476c157a6cfe234f7a34422eb0ad94998c2d082...   \n",
       "2  0629d63476c157a6cfe234f7a34422eb0ad94998c2d082...   \n",
       "3  0629d63476c157a6cfe234f7a34422eb0ad94998c2d082...   \n",
       "4  16badfc6202cb3f8889e0f2779b19218af4cbb736e56ac...   \n",
       "\n",
       "                                    REFERENCE_NUMBER        CREATED_ON_HQ  \\\n",
       "0  ce3548db155049cc1ccce2da041cec607942e4f779fc2d...  2021-11-03 08:54:13   \n",
       "1  ce3548db155049cc1ccce2da041cec607942e4f779fc2d...  2021-11-03 08:57:27   \n",
       "2  ce3548db155049cc1ccce2da041cec607942e4f779fc2d...  2021-11-03 08:57:28   \n",
       "3  ce3548db155049cc1ccce2da041cec607942e4f779fc2d...  2021-11-03 08:57:40   \n",
       "4  ce3548db155049cc1ccce2da041cec607942e4f779fc2d...  2021-11-03 09:05:43   \n",
       "\n",
       "   RATE_USD OFFER_TYPE  SELF_SERVE  IS_OFFER_APPROVED  AUTOMATICALLY_APPROVED  \\\n",
       "0    9546.0       pool           1                  0                       0   \n",
       "1    9159.0       pool           1                  1                       0   \n",
       "2    9288.0       pool           0                  0                       0   \n",
       "3    9159.0       pool           0                  1                       0   \n",
       "4   11610.0       pool           0                  0                       0   \n",
       "\n",
       "   MANUALLY_APPROVED  WAS_EVER_UNCOVERED  COVERING_OFFER  \\\n",
       "0                  0                   0               0   \n",
       "1                  1                   0               1   \n",
       "2                  0                   0               0   \n",
       "3                  1                   0               0   \n",
       "4                  0                   0               0   \n",
       "\n",
       "   LOAD_DELIVERED_FROM_OFFER  RECOMMENDED_LOAD  VALID  \n",
       "0                          0                 1      1  \n",
       "1                          1                 1      1  \n",
       "2                          0                 0      1  \n",
       "3                          0                 0      1  \n",
       "4                          0                 0      1  "
      ]
     },
     "execution_count": 7,
     "metadata": {},
     "output_type": "execute_result"
    }
   ],
   "source": [
    "oa_offers.head(5)"
   ]
  },
  {
   "cell_type": "markdown",
   "metadata": {},
   "source": [
    "### OA Offers EDA"
   ]
  },
  {
   "cell_type": "code",
   "execution_count": 8,
   "metadata": {},
   "outputs": [],
   "source": [
    "temp_df = oa_offers"
   ]
  },
  {
   "cell_type": "code",
   "execution_count": 26,
   "metadata": {
    "scrolled": true
   },
   "outputs": [
    {
     "data": {
      "text/plain": [
       "CARRIER_ID                   0.0\n",
       "REFERENCE_NUMBER             0.0\n",
       "CREATED_ON_HQ                0.0\n",
       "RATE_USD                     0.0\n",
       "OFFER_TYPE                   0.0\n",
       "SELF_SERVE                   0.0\n",
       "IS_OFFER_APPROVED            0.0\n",
       "AUTOMATICALLY_APPROVED       0.0\n",
       "MANUALLY_APPROVED            0.0\n",
       "WAS_EVER_UNCOVERED           0.0\n",
       "COVERING_OFFER               0.0\n",
       "LOAD_DELIVERED_FROM_OFFER    0.0\n",
       "RECOMMENDED_LOAD             0.0\n",
       "VALID                        0.0\n",
       "dtype: float64"
      ]
     },
     "execution_count": 26,
     "metadata": {},
     "output_type": "execute_result"
    }
   ],
   "source": [
    "check_nulls(temp_df)"
   ]
  },
  {
   "cell_type": "code",
   "execution_count": 19,
   "metadata": {},
   "outputs": [],
   "source": [
    "bool_column_names = ['SELF_SERVE', 'IS_OFFER_APPROVED',\n",
    "       'AUTOMATICALLY_APPROVED', 'MANUALLY_APPROVED', 'WAS_EVER_UNCOVERED',\n",
    "       'COVERING_OFFER', 'LOAD_DELIVERED_FROM_OFFER', 'RECOMMENDED_LOAD', 'VALID']\n",
    "categorical_column_names = [\"OFFER_TYPE\"]\n",
    "numerical_column_names = [\"RATE_USD\"]"
   ]
  },
  {
   "cell_type": "code",
   "execution_count": 20,
   "metadata": {
    "scrolled": true
   },
   "outputs": [
    {
     "data": {
      "text/plain": [
       "quote    0.840263\n",
       "pool     0.159737\n",
       "Name: OFFER_TYPE, dtype: float64"
      ]
     },
     "execution_count": 20,
     "metadata": {},
     "output_type": "execute_result"
    }
   ],
   "source": [
    "show_categorical_column_value_counts(temp_df[\"OFFER_TYPE\"])"
   ]
  },
  {
   "cell_type": "code",
   "execution_count": 21,
   "metadata": {
    "scrolled": false
   },
   "outputs": [
    {
     "data": {
      "image/png": "[encoded data removed]",
      "text/plain": [
       "<Figure size 720x360 with 2 Axes>"
      ]
     },
     "metadata": {
      "needs_background": "light"
     },
     "output_type": "display_data"
    }
   ],
   "source": [
    " _= plot_numerical_column_histogram(temp_df[\"RATE_USD\"], True)"
   ]
  },
  {
   "cell_type": "code",
   "execution_count": 22,
   "metadata": {
    "scrolled": true
   },
   "outputs": [
    {
     "data": {
      "text/plain": [
       "SELF_SERVE                   0.356980\n",
       "IS_OFFER_APPROVED            0.270522\n",
       "AUTOMATICALLY_APPROVED       0.085904\n",
       "MANUALLY_APPROVED            0.186036\n",
       "WAS_EVER_UNCOVERED           0.056934\n",
       "COVERING_OFFER               0.211056\n",
       "LOAD_DELIVERED_FROM_OFFER    0.206284\n",
       "RECOMMENDED_LOAD             0.225527\n",
       "VALID                        0.953419\n",
       "dtype: float64"
      ]
     },
     "execution_count": 22,
     "metadata": {},
     "output_type": "execute_result"
    }
   ],
   "source": [
    "temp_df[bool_column_names].mean(axis=0)"
   ]
  },
  {
   "cell_type": "markdown",
   "metadata": {},
   "source": [
    "### OA Offers Data Cleaning"
   ]
  },
  {
   "cell_type": "code",
   "execution_count": 23,
   "metadata": {},
   "outputs": [],
   "source": [
    "data_clean_first_time = False\n",
    "\n",
    "if data_clean_first_time:\n",
    "    \n",
    "    oa_offers[\"REFERENCE_NUMBER\"] = oa_offers[\"REFERENCE_NUMBER\"].str.split('''\"''').apply(lambda x: x[1])\n",
    "    \n",
    "    oa_offers[\"CREATED_ON_HQ\"] = pd.to_datetime(oa_offers[\"CREATED_ON_HQ\"])\n",
    "\n",
    "    oa_offers.loc[:,bool_column_names] = (oa_offers.loc[:,bool_column_names]).astype(np.int8)\n",
    "\n",
    "    oa_offers.to_csv(PATH_FILE_OA_OFFERS,index=False)"
   ]
  },
  {
   "cell_type": "markdown",
   "metadata": {},
   "source": [
    "## OA Orders"
   ]
  },
  {
   "cell_type": "markdown",
   "metadata": {},
   "source": [
    "### OA Orders EDA"
   ]
  },
  {
   "cell_type": "code",
   "execution_count": 27,
   "metadata": {},
   "outputs": [
    {
     "data": {
      "text/plain": [
       "REFERENCE_NUMBER                     0.000000\n",
       "ORDER_DATETIME_PST                   0.000000\n",
       "PICKUP_DEADLINE_PST                  0.000000\n",
       "DELIVERY_TIME_CONSTRAINT             0.000025\n",
       "ORIGIN_3DIGIT_ZIP                    0.000025\n",
       "DESTINATION_3DIGIT_ZIP               0.000025\n",
       "APPROXIMATE_DRIVING_ROUTE_MILEAGE    0.003236\n",
       "PALLETIZED_LINEAR_FEET               0.000025\n",
       "FD_ENABLED                           0.002406\n",
       "EXCLUSIVE_USE_REQUESTED              0.000025\n",
       "HAZARDOUS                            0.000025\n",
       "REEFER_ALLOWED                       0.000025\n",
       "STRAIGHT_TRUCK_ALLOWED               0.000025\n",
       "LOAD_BAR_COUNT                       0.000025\n",
       "LOAD_TO_RIDE_REQUESTED               0.000025\n",
       "ESTIMATED_COST_AT_ORDER              0.000000\n",
       "TRANSPORT_MODE                       0.000064\n",
       "dtype: float64"
      ]
     },
     "execution_count": 27,
     "metadata": {},
     "output_type": "execute_result"
    }
   ],
   "source": [
    "temp_df = oa_orders\n",
    "check_nulls(temp_df)"
   ]
  },
  {
   "cell_type": "code",
   "execution_count": 13,
   "metadata": {
    "scrolled": true
   },
   "outputs": [
    {
     "data": {
      "text/plain": [
       "PTL             134908\n",
       "FTL              79754\n",
       "LTL              55774\n",
       "VLTL              9252\n",
       "CONSOLIDATOR      1200\n",
       "Name: TRANSPORT_MODE, dtype: int64"
      ]
     },
     "execution_count": 13,
     "metadata": {},
     "output_type": "execute_result"
    }
   ],
   "source": [
    "oa_orders[\"TRANSPORT_MODE\"].value_counts()"
   ]
  },
  {
   "cell_type": "code",
   "execution_count": 14,
   "metadata": {},
   "outputs": [
    {
     "data": {
      "text/plain": [
       "SCHEDULE                  145885\n",
       "NONE                      113061\n",
       "DEADLINE_WITH_SCHEDULE      6799\n",
       "NOTIFY                      5368\n",
       "APPOINTMENT                 5203\n",
       "WINDOW                      3124\n",
       "DEADLINE                    1459\n",
       "Name: DELIVERY_TIME_CONSTRAINT, dtype: int64"
      ]
     },
     "execution_count": 14,
     "metadata": {},
     "output_type": "execute_result"
    }
   ],
   "source": [
    "oa_orders[\"DELIVERY_TIME_CONSTRAINT\"].value_counts()"
   ]
  },
  {
   "cell_type": "code",
   "execution_count": 15,
   "metadata": {},
   "outputs": [
    {
     "data": {
      "image/png": "[encoded data removed]",
      "text/plain": [
       "<Figure size 432x288 with 1 Axes>"
      ]
     },
     "metadata": {
      "needs_background": "light"
     },
     "output_type": "display_data"
    }
   ],
   "source": [
    "APPROXIMATE_DRIVING_ROUTE_MILEAGE_column = oa_orders[\"APPROXIMATE_DRIVING_ROUTE_MILEAGE\"]\n",
    "_ = plt.hist(APPROXIMATE_DRIVING_ROUTE_MILEAGE_column)"
   ]
  },
  {
   "cell_type": "code",
   "execution_count": 16,
   "metadata": {},
   "outputs": [
    {
     "data": {
      "image/png": "[encoded data removed]",
      "text/plain": [
       "<Figure size 432x288 with 1 Axes>"
      ]
     },
     "metadata": {
      "needs_background": "light"
     },
     "output_type": "display_data"
    }
   ],
   "source": [
    "ESTIMATED_COST_AT_ORDER_column = oa_orders[\"ESTIMATED_COST_AT_ORDER\"]\n",
    "ESTIMATED_COST_AT_ORDER_column = ESTIMATED_COST_AT_ORDER_column.apply(np.log1p)\n",
    "_ = plt.hist(ESTIMATED_COST_AT_ORDER_column)"
   ]
  },
  {
   "cell_type": "code",
   "execution_count": 17,
   "metadata": {},
   "outputs": [
    {
     "data": {
      "image/png": "[encoded data removed]",
      "text/plain": [
       "<Figure size 432x288 with 1 Axes>"
      ]
     },
     "metadata": {
      "needs_background": "light"
     },
     "output_type": "display_data"
    }
   ],
   "source": [
    "LOAD_BAR_COUNT_column = oa_orders[\"LOAD_BAR_COUNT\"]\n",
    "LOAD_BAR_COUNT_column = LOAD_BAR_COUNT_column.apply(np.log1p)\n",
    "_ = plt.hist(LOAD_BAR_COUNT_column)"
   ]
  },
  {
   "cell_type": "code",
   "execution_count": 18,
   "metadata": {},
   "outputs": [
    {
     "data": {
      "text/plain": [
       "FD_ENABLED                 0.999368\n",
       "EXCLUSIVE_USE_REQUESTED    0.145191\n",
       "HAZARDOUS                  0.001374\n",
       "REEFER_ALLOWED             0.734317\n",
       "STRAIGHT_TRUCK_ALLOWED     0.707760\n",
       "LOAD_TO_RIDE_REQUESTED     0.271945\n",
       "dtype: float64"
      ]
     },
     "execution_count": 18,
     "metadata": {},
     "output_type": "execute_result"
    }
   ],
   "source": [
    "bool_column_names = ['FD_ENABLED', 'EXCLUSIVE_USE_REQUESTED','HAZARDOUS', \n",
    "                     'REEFER_ALLOWED', 'STRAIGHT_TRUCK_ALLOWED','LOAD_TO_RIDE_REQUESTED']\n",
    "oa_orders[bool_column_names].mean(axis=0)"
   ]
  },
  {
   "cell_type": "markdown",
   "metadata": {},
   "source": [
    "### OA Orders Data Cleaning"
   ]
  },
  {
   "cell_type": "code",
   "execution_count": 19,
   "metadata": {},
   "outputs": [],
   "source": [
    "data_clean_first_time = False\n",
    "\n",
    "if data_clean_first_time:\n",
    "    \n",
    "    oa_orders[\"REFERENCE_NUMBER\"] = oa_orders[\"REFERENCE_NUMBER\"].str.split('''\"''').apply(lambda x: x[1])\n",
    "\n",
    "    oa_orders.loc[:,bool_column_names] = (oa_orders.loc[:,bool_column_names]).astype(float)\n",
    "\n",
    "    oa_orders.to_csv(PATH_FILE_OA_ORDERS,index=False)"
   ]
  },
  {
   "cell_type": "markdown",
   "metadata": {},
   "source": [
    "## OA Join"
   ]
  },
  {
   "cell_type": "code",
   "execution_count": 20,
   "metadata": {},
   "outputs": [
    {
     "name": "stdout",
     "output_type": "stream",
     "text": [
      "(280906, 17)\n",
      "(705541, 30)\n"
     ]
    }
   ],
   "source": [
    "def dataclean_ftl_duplicate_references(oa):\n",
    "    '''\n",
    "    Part of a greater data cleaning on removing incorrect FTL labels,\n",
    "    Removes FTL rows that have reference numbers that show up more than once, as those rows are incorrectly labeled FTL\n",
    "    '''\n",
    "    assert \"TRANSPORT_MODE\" in oa.columns\n",
    "    assert \"REFERENCE_NUMBER\" in oa.columns\n",
    "    oa_ftl = oa[oa[\"TRANSPORT_MODE\"]==\"FTL\"]\n",
    "    temp_counter = oa_ftl[\"REFERENCE_NUMBER\"].value_counts()\n",
    "    temp_counter = temp_counter.reset_index().rename(columns={\"index\":\"REFERENCE_NUMBER\",\"REFERENCE_NUMBER\":\"count\"})\n",
    "    oa_ftl_counted = oa_ftl.merge(temp_counter,on=[\"REFERENCE_NUMBER\"])\n",
    "    oa_ftl_duplicate_reference_numbers = oa_ftl_counted[oa_ftl_counted[\"count\"]>1]\n",
    "    oa = oa.drop(list(oa_ftl_duplicate_reference_numbers.index), axis=0)    \n",
    "    return oa\n",
    "\n",
    "def dataclean_nonquote_ftl(oa):\n",
    "    '''\n",
    "    Part of a greater data cleaning on removing incorrect FTL labels,\n",
    "    Removes FTL rows that don't have quote as the transport mode\n",
    "    '''\n",
    "    assert \"OFFER_TYPE\" in oa.columns\n",
    "    assert \"TRANSPORT_MODE\" in oa.columns    \n",
    "    oa = oa[~((oa[\"TRANSPORT_MODE\"]==\"FTL\") & (oa[\"OFFER_TYPE\"]!=\"quote\"))]\n",
    "    return oa\n",
    "\n",
    "\n",
    "PATH_FILE_oa = PATH_FOLDER + \"\\\\oa.csv\"\n",
    "\n",
    "data_clean_first_time = 1\n",
    "if data_clean_first_time:\n",
    "    oa_orders = dataclean_ftl_duplicate_references(oa_orders)\n",
    "    oa = oa_orders.merge(oa_offers, on=[\"REFERENCE_NUMBER\"],how=\"inner\")\n",
    "    oa = dataclean_nonquote_ftl(oa)\n",
    "else:\n",
    "    oa = pd.read_csv(PATH_FILE_oa)"
   ]
  },
  {
   "cell_type": "code",
   "execution_count": 27,
   "metadata": {},
   "outputs": [
    {
     "data": {
      "text/html": [
       "<div>\n",
       "<style scoped>\n",
       "    .dataframe tbody tr th:only-of-type {\n",
       "        vertical-align: middle;\n",
       "    }\n",
       "\n",
       "    .dataframe tbody tr th {\n",
       "        vertical-align: top;\n",
       "    }\n",
       "\n",
       "    .dataframe thead th {\n",
       "        text-align: right;\n",
       "    }\n",
       "</style>\n",
       "<table border=\"1\" class=\"dataframe\">\n",
       "  <thead>\n",
       "    <tr style=\"text-align: right;\">\n",
       "      <th></th>\n",
       "      <th>REFERENCE_NUMBER</th>\n",
       "      <th>ORDER_DATETIME_PST</th>\n",
       "      <th>PICKUP_DEADLINE_PST</th>\n",
       "      <th>DELIVERY_TIME_CONSTRAINT</th>\n",
       "      <th>ORIGIN_3DIGIT_ZIP</th>\n",
       "      <th>DESTINATION_3DIGIT_ZIP</th>\n",
       "      <th>APPROXIMATE_DRIVING_ROUTE_MILEAGE</th>\n",
       "      <th>PALLETIZED_LINEAR_FEET</th>\n",
       "      <th>FD_ENABLED</th>\n",
       "      <th>EXCLUSIVE_USE_REQUESTED</th>\n",
       "      <th>...</th>\n",
       "      <th>COVERING_OFFER</th>\n",
       "      <th>LOAD_DELIVERED_FROM_OFFER</th>\n",
       "      <th>RECOMMENDED_LOAD</th>\n",
       "      <th>VALID</th>\n",
       "      <th>ZIP3</th>\n",
       "      <th>Xcoord</th>\n",
       "      <th>Ycoord</th>\n",
       "      <th>ZIP3_dest</th>\n",
       "      <th>Xcoord_dest</th>\n",
       "      <th>Ycoord_dest</th>\n",
       "    </tr>\n",
       "  </thead>\n",
       "  <tbody>\n",
       "    <tr>\n",
       "      <th>0</th>\n",
       "      <td>76aceba45071865cc063e408a6e8df29227a0aa0b068c1...</td>\n",
       "      <td>2021-05-18 14:09:13</td>\n",
       "      <td>2021-05-24 15:00:00</td>\n",
       "      <td>NONE</td>\n",
       "      <td>382</td>\n",
       "      <td>456</td>\n",
       "      <td>472.0</td>\n",
       "      <td>52.0</td>\n",
       "      <td>1.0</td>\n",
       "      <td>1.0</td>\n",
       "      <td>...</td>\n",
       "      <td>0</td>\n",
       "      <td>0</td>\n",
       "      <td>0</td>\n",
       "      <td>1</td>\n",
       "      <td>382</td>\n",
       "      <td>-88.674553</td>\n",
       "      <td>36.298184</td>\n",
       "      <td>456</td>\n",
       "      <td>-82.856504</td>\n",
       "      <td>38.972217</td>\n",
       "    </tr>\n",
       "    <tr>\n",
       "      <th>1</th>\n",
       "      <td>38ddf0800307e11e1c52bd96311b6eda0d498c58b48074...</td>\n",
       "      <td>2021-05-18 14:05:16</td>\n",
       "      <td>2021-05-21 15:00:00</td>\n",
       "      <td>NONE</td>\n",
       "      <td>382</td>\n",
       "      <td>456</td>\n",
       "      <td>472.0</td>\n",
       "      <td>52.0</td>\n",
       "      <td>1.0</td>\n",
       "      <td>1.0</td>\n",
       "      <td>...</td>\n",
       "      <td>0</td>\n",
       "      <td>0</td>\n",
       "      <td>0</td>\n",
       "      <td>1</td>\n",
       "      <td>382</td>\n",
       "      <td>-88.674553</td>\n",
       "      <td>36.298184</td>\n",
       "      <td>456</td>\n",
       "      <td>-82.856504</td>\n",
       "      <td>38.972217</td>\n",
       "    </tr>\n",
       "    <tr>\n",
       "      <th>2</th>\n",
       "      <td>38ddf0800307e11e1c52bd96311b6eda0d498c58b48074...</td>\n",
       "      <td>2021-05-18 14:05:16</td>\n",
       "      <td>2021-05-21 15:00:00</td>\n",
       "      <td>NONE</td>\n",
       "      <td>382</td>\n",
       "      <td>456</td>\n",
       "      <td>472.0</td>\n",
       "      <td>52.0</td>\n",
       "      <td>1.0</td>\n",
       "      <td>1.0</td>\n",
       "      <td>...</td>\n",
       "      <td>0</td>\n",
       "      <td>0</td>\n",
       "      <td>0</td>\n",
       "      <td>1</td>\n",
       "      <td>382</td>\n",
       "      <td>-88.674553</td>\n",
       "      <td>36.298184</td>\n",
       "      <td>456</td>\n",
       "      <td>-82.856504</td>\n",
       "      <td>38.972217</td>\n",
       "    </tr>\n",
       "    <tr>\n",
       "      <th>3</th>\n",
       "      <td>38ddf0800307e11e1c52bd96311b6eda0d498c58b48074...</td>\n",
       "      <td>2021-05-18 14:05:16</td>\n",
       "      <td>2021-05-21 15:00:00</td>\n",
       "      <td>NONE</td>\n",
       "      <td>382</td>\n",
       "      <td>456</td>\n",
       "      <td>472.0</td>\n",
       "      <td>52.0</td>\n",
       "      <td>1.0</td>\n",
       "      <td>1.0</td>\n",
       "      <td>...</td>\n",
       "      <td>1</td>\n",
       "      <td>1</td>\n",
       "      <td>0</td>\n",
       "      <td>1</td>\n",
       "      <td>382</td>\n",
       "      <td>-88.674553</td>\n",
       "      <td>36.298184</td>\n",
       "      <td>456</td>\n",
       "      <td>-82.856504</td>\n",
       "      <td>38.972217</td>\n",
       "    </tr>\n",
       "    <tr>\n",
       "      <th>4</th>\n",
       "      <td>df3ebe190d8104faaece45f3997da25f6a81deda1d209a...</td>\n",
       "      <td>2021-05-18 14:15:53</td>\n",
       "      <td>2021-05-26 15:00:00</td>\n",
       "      <td>NONE</td>\n",
       "      <td>382</td>\n",
       "      <td>456</td>\n",
       "      <td>472.0</td>\n",
       "      <td>52.0</td>\n",
       "      <td>1.0</td>\n",
       "      <td>1.0</td>\n",
       "      <td>...</td>\n",
       "      <td>1</td>\n",
       "      <td>1</td>\n",
       "      <td>0</td>\n",
       "      <td>1</td>\n",
       "      <td>382</td>\n",
       "      <td>-88.674553</td>\n",
       "      <td>36.298184</td>\n",
       "      <td>456</td>\n",
       "      <td>-82.856504</td>\n",
       "      <td>38.972217</td>\n",
       "    </tr>\n",
       "    <tr>\n",
       "      <th>...</th>\n",
       "      <td>...</td>\n",
       "      <td>...</td>\n",
       "      <td>...</td>\n",
       "      <td>...</td>\n",
       "      <td>...</td>\n",
       "      <td>...</td>\n",
       "      <td>...</td>\n",
       "      <td>...</td>\n",
       "      <td>...</td>\n",
       "      <td>...</td>\n",
       "      <td>...</td>\n",
       "      <td>...</td>\n",
       "      <td>...</td>\n",
       "      <td>...</td>\n",
       "      <td>...</td>\n",
       "      <td>...</td>\n",
       "      <td>...</td>\n",
       "      <td>...</td>\n",
       "      <td>...</td>\n",
       "      <td>...</td>\n",
       "      <td>...</td>\n",
       "    </tr>\n",
       "    <tr>\n",
       "      <th>294818</th>\n",
       "      <td>345fc7a0e066a9b1a9f0d609b723b246b5f792e8528268...</td>\n",
       "      <td>2022-08-16 13:00:05</td>\n",
       "      <td>2022-08-22 13:00:00</td>\n",
       "      <td>SCHEDULE</td>\n",
       "      <td>758</td>\n",
       "      <td>689</td>\n",
       "      <td>759.0</td>\n",
       "      <td>49.0</td>\n",
       "      <td>1.0</td>\n",
       "      <td>1.0</td>\n",
       "      <td>...</td>\n",
       "      <td>0</td>\n",
       "      <td>0</td>\n",
       "      <td>0</td>\n",
       "      <td>1</td>\n",
       "      <td>758</td>\n",
       "      <td>-95.669057</td>\n",
       "      <td>31.448533</td>\n",
       "      <td>689</td>\n",
       "      <td>-98.905744</td>\n",
       "      <td>40.338848</td>\n",
       "    </tr>\n",
       "    <tr>\n",
       "      <th>294819</th>\n",
       "      <td>345fc7a0e066a9b1a9f0d609b723b246b5f792e8528268...</td>\n",
       "      <td>2022-08-16 13:00:05</td>\n",
       "      <td>2022-08-22 13:00:00</td>\n",
       "      <td>SCHEDULE</td>\n",
       "      <td>758</td>\n",
       "      <td>689</td>\n",
       "      <td>759.0</td>\n",
       "      <td>49.0</td>\n",
       "      <td>1.0</td>\n",
       "      <td>1.0</td>\n",
       "      <td>...</td>\n",
       "      <td>0</td>\n",
       "      <td>0</td>\n",
       "      <td>0</td>\n",
       "      <td>1</td>\n",
       "      <td>758</td>\n",
       "      <td>-95.669057</td>\n",
       "      <td>31.448533</td>\n",
       "      <td>689</td>\n",
       "      <td>-98.905744</td>\n",
       "      <td>40.338848</td>\n",
       "    </tr>\n",
       "    <tr>\n",
       "      <th>294820</th>\n",
       "      <td>345fc7a0e066a9b1a9f0d609b723b246b5f792e8528268...</td>\n",
       "      <td>2022-08-16 13:00:05</td>\n",
       "      <td>2022-08-22 13:00:00</td>\n",
       "      <td>SCHEDULE</td>\n",
       "      <td>758</td>\n",
       "      <td>689</td>\n",
       "      <td>759.0</td>\n",
       "      <td>49.0</td>\n",
       "      <td>1.0</td>\n",
       "      <td>1.0</td>\n",
       "      <td>...</td>\n",
       "      <td>0</td>\n",
       "      <td>0</td>\n",
       "      <td>0</td>\n",
       "      <td>1</td>\n",
       "      <td>758</td>\n",
       "      <td>-95.669057</td>\n",
       "      <td>31.448533</td>\n",
       "      <td>689</td>\n",
       "      <td>-98.905744</td>\n",
       "      <td>40.338848</td>\n",
       "    </tr>\n",
       "    <tr>\n",
       "      <th>294821</th>\n",
       "      <td>345fc7a0e066a9b1a9f0d609b723b246b5f792e8528268...</td>\n",
       "      <td>2022-08-16 13:00:05</td>\n",
       "      <td>2022-08-22 13:00:00</td>\n",
       "      <td>SCHEDULE</td>\n",
       "      <td>758</td>\n",
       "      <td>689</td>\n",
       "      <td>759.0</td>\n",
       "      <td>49.0</td>\n",
       "      <td>1.0</td>\n",
       "      <td>1.0</td>\n",
       "      <td>...</td>\n",
       "      <td>0</td>\n",
       "      <td>0</td>\n",
       "      <td>0</td>\n",
       "      <td>1</td>\n",
       "      <td>758</td>\n",
       "      <td>-95.669057</td>\n",
       "      <td>31.448533</td>\n",
       "      <td>689</td>\n",
       "      <td>-98.905744</td>\n",
       "      <td>40.338848</td>\n",
       "    </tr>\n",
       "    <tr>\n",
       "      <th>294822</th>\n",
       "      <td>5bdf148a4de2b17db57fd9403b48877429ceca12c5b7dd...</td>\n",
       "      <td>2021-08-10 08:11:31</td>\n",
       "      <td>2021-08-11 13:00:00</td>\n",
       "      <td>SCHEDULE</td>\n",
       "      <td>597</td>\n",
       "      <td>583</td>\n",
       "      <td>743.0</td>\n",
       "      <td>53.0</td>\n",
       "      <td>1.0</td>\n",
       "      <td>0.0</td>\n",
       "      <td>...</td>\n",
       "      <td>1</td>\n",
       "      <td>1</td>\n",
       "      <td>0</td>\n",
       "      <td>1</td>\n",
       "      <td>597</td>\n",
       "      <td>-112.301354</td>\n",
       "      <td>45.472628</td>\n",
       "      <td>583</td>\n",
       "      <td>-99.336148</td>\n",
       "      <td>48.318501</td>\n",
       "    </tr>\n",
       "  </tbody>\n",
       "</table>\n",
       "<p>294823 rows × 36 columns</p>\n",
       "</div>"
      ],
      "text/plain": [
       "                                         REFERENCE_NUMBER  \\\n",
       "0       76aceba45071865cc063e408a6e8df29227a0aa0b068c1...   \n",
       "1       38ddf0800307e11e1c52bd96311b6eda0d498c58b48074...   \n",
       "2       38ddf0800307e11e1c52bd96311b6eda0d498c58b48074...   \n",
       "3       38ddf0800307e11e1c52bd96311b6eda0d498c58b48074...   \n",
       "4       df3ebe190d8104faaece45f3997da25f6a81deda1d209a...   \n",
       "...                                                   ...   \n",
       "294818  345fc7a0e066a9b1a9f0d609b723b246b5f792e8528268...   \n",
       "294819  345fc7a0e066a9b1a9f0d609b723b246b5f792e8528268...   \n",
       "294820  345fc7a0e066a9b1a9f0d609b723b246b5f792e8528268...   \n",
       "294821  345fc7a0e066a9b1a9f0d609b723b246b5f792e8528268...   \n",
       "294822  5bdf148a4de2b17db57fd9403b48877429ceca12c5b7dd...   \n",
       "\n",
       "         ORDER_DATETIME_PST  PICKUP_DEADLINE_PST DELIVERY_TIME_CONSTRAINT  \\\n",
       "0       2021-05-18 14:09:13  2021-05-24 15:00:00                     NONE   \n",
       "1       2021-05-18 14:05:16  2021-05-21 15:00:00                     NONE   \n",
       "2       2021-05-18 14:05:16  2021-05-21 15:00:00                     NONE   \n",
       "3       2021-05-18 14:05:16  2021-05-21 15:00:00                     NONE   \n",
       "4       2021-05-18 14:15:53  2021-05-26 15:00:00                     NONE   \n",
       "...                     ...                  ...                      ...   \n",
       "294818  2022-08-16 13:00:05  2022-08-22 13:00:00                 SCHEDULE   \n",
       "294819  2022-08-16 13:00:05  2022-08-22 13:00:00                 SCHEDULE   \n",
       "294820  2022-08-16 13:00:05  2022-08-22 13:00:00                 SCHEDULE   \n",
       "294821  2022-08-16 13:00:05  2022-08-22 13:00:00                 SCHEDULE   \n",
       "294822  2021-08-10 08:11:31  2021-08-11 13:00:00                 SCHEDULE   \n",
       "\n",
       "        ORIGIN_3DIGIT_ZIP  DESTINATION_3DIGIT_ZIP  \\\n",
       "0                     382                     456   \n",
       "1                     382                     456   \n",
       "2                     382                     456   \n",
       "3                     382                     456   \n",
       "4                     382                     456   \n",
       "...                   ...                     ...   \n",
       "294818                758                     689   \n",
       "294819                758                     689   \n",
       "294820                758                     689   \n",
       "294821                758                     689   \n",
       "294822                597                     583   \n",
       "\n",
       "        APPROXIMATE_DRIVING_ROUTE_MILEAGE  PALLETIZED_LINEAR_FEET  FD_ENABLED  \\\n",
       "0                                   472.0                    52.0         1.0   \n",
       "1                                   472.0                    52.0         1.0   \n",
       "2                                   472.0                    52.0         1.0   \n",
       "3                                   472.0                    52.0         1.0   \n",
       "4                                   472.0                    52.0         1.0   \n",
       "...                                   ...                     ...         ...   \n",
       "294818                              759.0                    49.0         1.0   \n",
       "294819                              759.0                    49.0         1.0   \n",
       "294820                              759.0                    49.0         1.0   \n",
       "294821                              759.0                    49.0         1.0   \n",
       "294822                              743.0                    53.0         1.0   \n",
       "\n",
       "        EXCLUSIVE_USE_REQUESTED  ...  COVERING_OFFER  \\\n",
       "0                           1.0  ...               0   \n",
       "1                           1.0  ...               0   \n",
       "2                           1.0  ...               0   \n",
       "3                           1.0  ...               1   \n",
       "4                           1.0  ...               1   \n",
       "...                         ...  ...             ...   \n",
       "294818                      1.0  ...               0   \n",
       "294819                      1.0  ...               0   \n",
       "294820                      1.0  ...               0   \n",
       "294821                      1.0  ...               0   \n",
       "294822                      0.0  ...               1   \n",
       "\n",
       "        LOAD_DELIVERED_FROM_OFFER  RECOMMENDED_LOAD  VALID  ZIP3      Xcoord  \\\n",
       "0                               0                 0      1   382  -88.674553   \n",
       "1                               0                 0      1   382  -88.674553   \n",
       "2                               0                 0      1   382  -88.674553   \n",
       "3                               1                 0      1   382  -88.674553   \n",
       "4                               1                 0      1   382  -88.674553   \n",
       "...                           ...               ...    ...   ...         ...   \n",
       "294818                          0                 0      1   758  -95.669057   \n",
       "294819                          0                 0      1   758  -95.669057   \n",
       "294820                          0                 0      1   758  -95.669057   \n",
       "294821                          0                 0      1   758  -95.669057   \n",
       "294822                          1                 0      1   597 -112.301354   \n",
       "\n",
       "           Ycoord ZIP3_dest Xcoord_dest  Ycoord_dest  \n",
       "0       36.298184       456  -82.856504    38.972217  \n",
       "1       36.298184       456  -82.856504    38.972217  \n",
       "2       36.298184       456  -82.856504    38.972217  \n",
       "3       36.298184       456  -82.856504    38.972217  \n",
       "4       36.298184       456  -82.856504    38.972217  \n",
       "...           ...       ...         ...          ...  \n",
       "294818  31.448533       689  -98.905744    40.338848  \n",
       "294819  31.448533       689  -98.905744    40.338848  \n",
       "294820  31.448533       689  -98.905744    40.338848  \n",
       "294821  31.448533       689  -98.905744    40.338848  \n",
       "294822  45.472628       583  -99.336148    48.318501  \n",
       "\n",
       "[294823 rows x 36 columns]"
      ]
     },
     "execution_count": 27,
     "metadata": {},
     "output_type": "execute_result"
    }
   ],
   "source": [
    "oa"
   ]
  },
  {
   "cell_type": "markdown",
   "metadata": {},
   "source": [
    "### OA Join EDA"
   ]
  },
  {
   "cell_type": "code",
   "execution_count": 21,
   "metadata": {},
   "outputs": [
    {
     "data": {
      "text/plain": [
       "REFERENCE_NUMBER                     0.000000\n",
       "ORDER_DATETIME_PST                   0.000000\n",
       "PICKUP_DEADLINE_PST                  0.000000\n",
       "DELIVERY_TIME_CONSTRAINT             0.000003\n",
       "ORIGIN_3DIGIT_ZIP                    0.000003\n",
       "DESTINATION_3DIGIT_ZIP               0.000003\n",
       "APPROXIMATE_DRIVING_ROUTE_MILEAGE    0.003299\n",
       "PALLETIZED_LINEAR_FEET               0.000003\n",
       "FD_ENABLED                           0.000169\n",
       "EXCLUSIVE_USE_REQUESTED              0.000003\n",
       "HAZARDOUS                            0.000003\n",
       "REEFER_ALLOWED                       0.000003\n",
       "STRAIGHT_TRUCK_ALLOWED               0.000003\n",
       "LOAD_BAR_COUNT                       0.000003\n",
       "LOAD_TO_RIDE_REQUESTED               0.000003\n",
       "ESTIMATED_COST_AT_ORDER              0.000000\n",
       "TRANSPORT_MODE                       0.000011\n",
       "CARRIER_ID                           0.000000\n",
       "CREATED_ON_HQ                        0.000000\n",
       "RATE_USD                             0.000000\n",
       "OFFER_TYPE                           0.000000\n",
       "SELF_SERVE                           0.000000\n",
       "IS_OFFER_APPROVED                    0.000000\n",
       "AUTOMATICALLY_APPROVED               0.000000\n",
       "MANUALLY_APPROVED                    0.000000\n",
       "WAS_EVER_UNCOVERED                   0.000000\n",
       "COVERING_OFFER                       0.000000\n",
       "LOAD_DELIVERED_FROM_OFFER            0.000000\n",
       "RECOMMENDED_LOAD                     0.000000\n",
       "VALID                                0.000000\n",
       "dtype: float64"
      ]
     },
     "execution_count": 21,
     "metadata": {},
     "output_type": "execute_result"
    }
   ],
   "source": [
    "oa.isnull().mean(axis=0)"
   ]
  },
  {
   "cell_type": "code",
   "execution_count": 22,
   "metadata": {},
   "outputs": [
    {
     "data": {
      "text/plain": [
       "FD_ENABLED                   0.999806\n",
       "EXCLUSIVE_USE_REQUESTED      0.187039\n",
       "HAZARDOUS                    0.000054\n",
       "REEFER_ALLOWED               0.650258\n",
       "STRAIGHT_TRUCK_ALLOWED       0.647146\n",
       "LOAD_TO_RIDE_REQUESTED       0.318361\n",
       "SELF_SERVE                   0.357498\n",
       "IS_OFFER_APPROVED            0.270434\n",
       "AUTOMATICALLY_APPROVED       0.086028\n",
       "MANUALLY_APPROVED            0.185825\n",
       "WAS_EVER_UNCOVERED           0.056883\n",
       "COVERING_OFFER               0.211176\n",
       "LOAD_DELIVERED_FROM_OFFER    0.206365\n",
       "RECOMMENDED_LOAD             0.226007\n",
       "VALID                        0.953415\n",
       "dtype: float64"
      ]
     },
     "execution_count": 22,
     "metadata": {},
     "output_type": "execute_result"
    }
   ],
   "source": [
    "bool_column_names = []\n",
    "bool_column_names += ['FD_ENABLED', 'EXCLUSIVE_USE_REQUESTED','HAZARDOUS', \n",
    "                     'REEFER_ALLOWED', 'STRAIGHT_TRUCK_ALLOWED','LOAD_TO_RIDE_REQUESTED']\n",
    "bool_column_names += ['SELF_SERVE', 'IS_OFFER_APPROVED',\n",
    "       'AUTOMATICALLY_APPROVED', 'MANUALLY_APPROVED', 'WAS_EVER_UNCOVERED',\n",
    "       'COVERING_OFFER', 'LOAD_DELIVERED_FROM_OFFER', 'RECOMMENDED_LOAD', 'VALID']\n",
    "\n",
    "oa[bool_column_names].mean(axis=0)"
   ]
  },
  {
   "cell_type": "code",
   "execution_count": 23,
   "metadata": {},
   "outputs": [
    {
     "data": {
      "image/png": "[encoded data removed]",
      "text/plain": [
       "<Figure size 432x288 with 1 Axes>"
      ]
     },
     "metadata": {
      "needs_background": "light"
     },
     "output_type": "display_data"
    }
   ],
   "source": [
    "APPROXIMATE_DRIVING_ROUTE_MILEAGE_column = oa[\"APPROXIMATE_DRIVING_ROUTE_MILEAGE\"]\n",
    "_ = plt.hist(APPROXIMATE_DRIVING_ROUTE_MILEAGE_column)"
   ]
  },
  {
   "cell_type": "code",
   "execution_count": 24,
   "metadata": {},
   "outputs": [
    {
     "data": {
      "image/png": "[encoded data removed]",
      "text/plain": [
       "<Figure size 432x288 with 1 Axes>"
      ]
     },
     "metadata": {
      "needs_background": "light"
     },
     "output_type": "display_data"
    }
   ],
   "source": [
    "ESTIMATED_COST_AT_ORDER_column = oa[\"ESTIMATED_COST_AT_ORDER\"]\n",
    "ESTIMATED_COST_AT_ORDER_column = ESTIMATED_COST_AT_ORDER_column.apply(np.log1p)\n",
    "_ = plt.hist(ESTIMATED_COST_AT_ORDER_column)"
   ]
  },
  {
   "cell_type": "code",
   "execution_count": 25,
   "metadata": {},
   "outputs": [
    {
     "data": {
      "image/png": "[encoded data removed]",
      "text/plain": [
       "<Figure size 432x288 with 1 Axes>"
      ]
     },
     "metadata": {
      "needs_background": "light"
     },
     "output_type": "display_data"
    }
   ],
   "source": [
    "LOAD_BAR_COUNT_column = oa[\"LOAD_BAR_COUNT\"]\n",
    "LOAD_BAR_COUNT_column = LOAD_BAR_COUNT_column.apply(np.log1p)\n",
    "_ = plt.hist(LOAD_BAR_COUNT_column)"
   ]
  },
  {
   "cell_type": "code",
   "execution_count": 26,
   "metadata": {},
   "outputs": [
    {
     "data": {
      "image/png": "[encoded data removed]",
      "text/plain": [
       "<Figure size 432x288 with 1 Axes>"
      ]
     },
     "metadata": {
      "needs_background": "light"
     },
     "output_type": "display_data"
    }
   ],
   "source": [
    "RATE_USD_column = oa[\"RATE_USD\"]\n",
    "RATE_USD_column = RATE_USD_column.apply(np.log1p)\n",
    "_ = plt.hist(RATE_USD_column)"
   ]
  },
  {
   "cell_type": "code",
   "execution_count": 27,
   "metadata": {},
   "outputs": [
    {
     "data": {
      "text/plain": [
       "SCHEDULE                  442873\n",
       "NONE                      217120\n",
       "APPOINTMENT                14041\n",
       "DEADLINE_WITH_SCHEDULE     12793\n",
       "WINDOW                      8140\n",
       "NOTIFY                      6940\n",
       "DEADLINE                    3362\n",
       "Name: DELIVERY_TIME_CONSTRAINT, dtype: int64"
      ]
     },
     "execution_count": 27,
     "metadata": {},
     "output_type": "execute_result"
    }
   ],
   "source": [
    "oa[\"DELIVERY_TIME_CONSTRAINT\"].value_counts()"
   ]
  },
  {
   "cell_type": "code",
   "execution_count": 28,
   "metadata": {},
   "outputs": [
    {
     "data": {
      "text/plain": [
       "quote    594522\n",
       "pool     110749\n",
       "Name: OFFER_TYPE, dtype: int64"
      ]
     },
     "execution_count": 28,
     "metadata": {},
     "output_type": "execute_result"
    }
   ],
   "source": [
    "oa[\"OFFER_TYPE\"].value_counts()"
   ]
  },
  {
   "cell_type": "code",
   "execution_count": 29,
   "metadata": {},
   "outputs": [
    {
     "data": {
      "text/plain": [
       "PTL             422636\n",
       "FTL             269300\n",
       "LTL               8091\n",
       "VLTL              3338\n",
       "CONSOLIDATOR      1898\n",
       "Name: TRANSPORT_MODE, dtype: int64"
      ]
     },
     "execution_count": 29,
     "metadata": {},
     "output_type": "execute_result"
    }
   ],
   "source": [
    "oa[\"TRANSPORT_MODE\"].value_counts()"
   ]
  },
  {
   "cell_type": "code",
   "execution_count": 30,
   "metadata": {},
   "outputs": [
    {
     "data": {
      "text/html": [
       "<div>\n",
       "<style scoped>\n",
       "    .dataframe tbody tr th:only-of-type {\n",
       "        vertical-align: middle;\n",
       "    }\n",
       "\n",
       "    .dataframe tbody tr th {\n",
       "        vertical-align: top;\n",
       "    }\n",
       "\n",
       "    .dataframe thead th {\n",
       "        text-align: right;\n",
       "    }\n",
       "</style>\n",
       "<table border=\"1\" class=\"dataframe\">\n",
       "  <thead>\n",
       "    <tr style=\"text-align: right;\">\n",
       "      <th></th>\n",
       "      <th>REFERENCE_NUMBER</th>\n",
       "      <th>ORDER_DATETIME_PST</th>\n",
       "      <th>PICKUP_DEADLINE_PST</th>\n",
       "      <th>DELIVERY_TIME_CONSTRAINT</th>\n",
       "      <th>ORIGIN_3DIGIT_ZIP</th>\n",
       "      <th>DESTINATION_3DIGIT_ZIP</th>\n",
       "      <th>APPROXIMATE_DRIVING_ROUTE_MILEAGE</th>\n",
       "      <th>PALLETIZED_LINEAR_FEET</th>\n",
       "      <th>FD_ENABLED</th>\n",
       "      <th>EXCLUSIVE_USE_REQUESTED</th>\n",
       "      <th>...</th>\n",
       "      <th>OFFER_TYPE</th>\n",
       "      <th>SELF_SERVE</th>\n",
       "      <th>IS_OFFER_APPROVED</th>\n",
       "      <th>AUTOMATICALLY_APPROVED</th>\n",
       "      <th>MANUALLY_APPROVED</th>\n",
       "      <th>WAS_EVER_UNCOVERED</th>\n",
       "      <th>COVERING_OFFER</th>\n",
       "      <th>LOAD_DELIVERED_FROM_OFFER</th>\n",
       "      <th>RECOMMENDED_LOAD</th>\n",
       "      <th>VALID</th>\n",
       "    </tr>\n",
       "  </thead>\n",
       "  <tbody>\n",
       "    <tr>\n",
       "      <th>0</th>\n",
       "      <td>e97bdf5ad99011a878f18c10b0df1f663f6b8f4a5c8a4c...</td>\n",
       "      <td>2022-05-19 09:21:39</td>\n",
       "      <td>2022-05-24 13:00:00</td>\n",
       "      <td>NONE</td>\n",
       "      <td>670</td>\n",
       "      <td>630</td>\n",
       "      <td>414.0</td>\n",
       "      <td>45.0</td>\n",
       "      <td>1.0</td>\n",
       "      <td>1.0</td>\n",
       "      <td>...</td>\n",
       "      <td>quote</td>\n",
       "      <td>0</td>\n",
       "      <td>0</td>\n",
       "      <td>0</td>\n",
       "      <td>0</td>\n",
       "      <td>0</td>\n",
       "      <td>0</td>\n",
       "      <td>0</td>\n",
       "      <td>0</td>\n",
       "      <td>1</td>\n",
       "    </tr>\n",
       "    <tr>\n",
       "      <th>1</th>\n",
       "      <td>e97bdf5ad99011a878f18c10b0df1f663f6b8f4a5c8a4c...</td>\n",
       "      <td>2022-05-19 09:21:39</td>\n",
       "      <td>2022-05-24 13:00:00</td>\n",
       "      <td>NONE</td>\n",
       "      <td>670</td>\n",
       "      <td>630</td>\n",
       "      <td>414.0</td>\n",
       "      <td>45.0</td>\n",
       "      <td>1.0</td>\n",
       "      <td>1.0</td>\n",
       "      <td>...</td>\n",
       "      <td>quote</td>\n",
       "      <td>0</td>\n",
       "      <td>0</td>\n",
       "      <td>0</td>\n",
       "      <td>0</td>\n",
       "      <td>0</td>\n",
       "      <td>0</td>\n",
       "      <td>0</td>\n",
       "      <td>0</td>\n",
       "      <td>1</td>\n",
       "    </tr>\n",
       "    <tr>\n",
       "      <th>2</th>\n",
       "      <td>e97bdf5ad99011a878f18c10b0df1f663f6b8f4a5c8a4c...</td>\n",
       "      <td>2022-05-19 09:21:39</td>\n",
       "      <td>2022-05-24 13:00:00</td>\n",
       "      <td>NONE</td>\n",
       "      <td>670</td>\n",
       "      <td>630</td>\n",
       "      <td>414.0</td>\n",
       "      <td>45.0</td>\n",
       "      <td>1.0</td>\n",
       "      <td>1.0</td>\n",
       "      <td>...</td>\n",
       "      <td>quote</td>\n",
       "      <td>0</td>\n",
       "      <td>1</td>\n",
       "      <td>0</td>\n",
       "      <td>1</td>\n",
       "      <td>0</td>\n",
       "      <td>0</td>\n",
       "      <td>0</td>\n",
       "      <td>0</td>\n",
       "      <td>0</td>\n",
       "    </tr>\n",
       "    <tr>\n",
       "      <th>3</th>\n",
       "      <td>e97bdf5ad99011a878f18c10b0df1f663f6b8f4a5c8a4c...</td>\n",
       "      <td>2022-05-19 09:21:39</td>\n",
       "      <td>2022-05-24 13:00:00</td>\n",
       "      <td>NONE</td>\n",
       "      <td>670</td>\n",
       "      <td>630</td>\n",
       "      <td>414.0</td>\n",
       "      <td>45.0</td>\n",
       "      <td>1.0</td>\n",
       "      <td>1.0</td>\n",
       "      <td>...</td>\n",
       "      <td>quote</td>\n",
       "      <td>0</td>\n",
       "      <td>0</td>\n",
       "      <td>0</td>\n",
       "      <td>0</td>\n",
       "      <td>0</td>\n",
       "      <td>0</td>\n",
       "      <td>0</td>\n",
       "      <td>0</td>\n",
       "      <td>1</td>\n",
       "    </tr>\n",
       "    <tr>\n",
       "      <th>4</th>\n",
       "      <td>e97bdf5ad99011a878f18c10b0df1f663f6b8f4a5c8a4c...</td>\n",
       "      <td>2022-05-19 09:21:39</td>\n",
       "      <td>2022-05-24 13:00:00</td>\n",
       "      <td>NONE</td>\n",
       "      <td>670</td>\n",
       "      <td>630</td>\n",
       "      <td>414.0</td>\n",
       "      <td>45.0</td>\n",
       "      <td>1.0</td>\n",
       "      <td>1.0</td>\n",
       "      <td>...</td>\n",
       "      <td>quote</td>\n",
       "      <td>0</td>\n",
       "      <td>1</td>\n",
       "      <td>0</td>\n",
       "      <td>1</td>\n",
       "      <td>0</td>\n",
       "      <td>1</td>\n",
       "      <td>1</td>\n",
       "      <td>0</td>\n",
       "      <td>1</td>\n",
       "    </tr>\n",
       "    <tr>\n",
       "      <th>...</th>\n",
       "      <td>...</td>\n",
       "      <td>...</td>\n",
       "      <td>...</td>\n",
       "      <td>...</td>\n",
       "      <td>...</td>\n",
       "      <td>...</td>\n",
       "      <td>...</td>\n",
       "      <td>...</td>\n",
       "      <td>...</td>\n",
       "      <td>...</td>\n",
       "      <td>...</td>\n",
       "      <td>...</td>\n",
       "      <td>...</td>\n",
       "      <td>...</td>\n",
       "      <td>...</td>\n",
       "      <td>...</td>\n",
       "      <td>...</td>\n",
       "      <td>...</td>\n",
       "      <td>...</td>\n",
       "      <td>...</td>\n",
       "      <td>...</td>\n",
       "    </tr>\n",
       "    <tr>\n",
       "      <th>705382</th>\n",
       "      <td>1334124efed8c6b3450105d711b2285722b5537ad6e1fe...</td>\n",
       "      <td>2022-09-30 10:46:37</td>\n",
       "      <td>2022-10-17 07:00:00</td>\n",
       "      <td>SCHEDULE</td>\n",
       "      <td>770</td>\n",
       "      <td>754</td>\n",
       "      <td>313.0</td>\n",
       "      <td>52.0</td>\n",
       "      <td>1.0</td>\n",
       "      <td>0.0</td>\n",
       "      <td>...</td>\n",
       "      <td>quote</td>\n",
       "      <td>1</td>\n",
       "      <td>1</td>\n",
       "      <td>1</td>\n",
       "      <td>0</td>\n",
       "      <td>1</td>\n",
       "      <td>0</td>\n",
       "      <td>0</td>\n",
       "      <td>0</td>\n",
       "      <td>1</td>\n",
       "    </tr>\n",
       "    <tr>\n",
       "      <th>705383</th>\n",
       "      <td>1334124efed8c6b3450105d711b2285722b5537ad6e1fe...</td>\n",
       "      <td>2022-09-30 10:46:37</td>\n",
       "      <td>2022-10-17 07:00:00</td>\n",
       "      <td>SCHEDULE</td>\n",
       "      <td>770</td>\n",
       "      <td>754</td>\n",
       "      <td>313.0</td>\n",
       "      <td>52.0</td>\n",
       "      <td>1.0</td>\n",
       "      <td>0.0</td>\n",
       "      <td>...</td>\n",
       "      <td>quote</td>\n",
       "      <td>1</td>\n",
       "      <td>0</td>\n",
       "      <td>0</td>\n",
       "      <td>0</td>\n",
       "      <td>0</td>\n",
       "      <td>0</td>\n",
       "      <td>0</td>\n",
       "      <td>1</td>\n",
       "      <td>1</td>\n",
       "    </tr>\n",
       "    <tr>\n",
       "      <th>705384</th>\n",
       "      <td>1334124efed8c6b3450105d711b2285722b5537ad6e1fe...</td>\n",
       "      <td>2022-09-30 10:46:37</td>\n",
       "      <td>2022-10-17 07:00:00</td>\n",
       "      <td>SCHEDULE</td>\n",
       "      <td>770</td>\n",
       "      <td>754</td>\n",
       "      <td>313.0</td>\n",
       "      <td>52.0</td>\n",
       "      <td>1.0</td>\n",
       "      <td>0.0</td>\n",
       "      <td>...</td>\n",
       "      <td>quote</td>\n",
       "      <td>0</td>\n",
       "      <td>1</td>\n",
       "      <td>1</td>\n",
       "      <td>0</td>\n",
       "      <td>0</td>\n",
       "      <td>0</td>\n",
       "      <td>0</td>\n",
       "      <td>0</td>\n",
       "      <td>1</td>\n",
       "    </tr>\n",
       "    <tr>\n",
       "      <th>705385</th>\n",
       "      <td>1334124efed8c6b3450105d711b2285722b5537ad6e1fe...</td>\n",
       "      <td>2022-09-30 10:46:37</td>\n",
       "      <td>2022-10-17 07:00:00</td>\n",
       "      <td>SCHEDULE</td>\n",
       "      <td>770</td>\n",
       "      <td>754</td>\n",
       "      <td>313.0</td>\n",
       "      <td>52.0</td>\n",
       "      <td>1.0</td>\n",
       "      <td>0.0</td>\n",
       "      <td>...</td>\n",
       "      <td>quote</td>\n",
       "      <td>0</td>\n",
       "      <td>1</td>\n",
       "      <td>1</td>\n",
       "      <td>0</td>\n",
       "      <td>0</td>\n",
       "      <td>0</td>\n",
       "      <td>0</td>\n",
       "      <td>0</td>\n",
       "      <td>1</td>\n",
       "    </tr>\n",
       "    <tr>\n",
       "      <th>705386</th>\n",
       "      <td>1334124efed8c6b3450105d711b2285722b5537ad6e1fe...</td>\n",
       "      <td>2022-09-30 10:46:37</td>\n",
       "      <td>2022-10-17 07:00:00</td>\n",
       "      <td>SCHEDULE</td>\n",
       "      <td>770</td>\n",
       "      <td>754</td>\n",
       "      <td>313.0</td>\n",
       "      <td>52.0</td>\n",
       "      <td>1.0</td>\n",
       "      <td>0.0</td>\n",
       "      <td>...</td>\n",
       "      <td>quote</td>\n",
       "      <td>0</td>\n",
       "      <td>1</td>\n",
       "      <td>1</td>\n",
       "      <td>0</td>\n",
       "      <td>0</td>\n",
       "      <td>0</td>\n",
       "      <td>0</td>\n",
       "      <td>0</td>\n",
       "      <td>0</td>\n",
       "    </tr>\n",
       "  </tbody>\n",
       "</table>\n",
       "<p>705271 rows × 30 columns</p>\n",
       "</div>"
      ],
      "text/plain": [
       "                                         REFERENCE_NUMBER  \\\n",
       "0       e97bdf5ad99011a878f18c10b0df1f663f6b8f4a5c8a4c...   \n",
       "1       e97bdf5ad99011a878f18c10b0df1f663f6b8f4a5c8a4c...   \n",
       "2       e97bdf5ad99011a878f18c10b0df1f663f6b8f4a5c8a4c...   \n",
       "3       e97bdf5ad99011a878f18c10b0df1f663f6b8f4a5c8a4c...   \n",
       "4       e97bdf5ad99011a878f18c10b0df1f663f6b8f4a5c8a4c...   \n",
       "...                                                   ...   \n",
       "705382  1334124efed8c6b3450105d711b2285722b5537ad6e1fe...   \n",
       "705383  1334124efed8c6b3450105d711b2285722b5537ad6e1fe...   \n",
       "705384  1334124efed8c6b3450105d711b2285722b5537ad6e1fe...   \n",
       "705385  1334124efed8c6b3450105d711b2285722b5537ad6e1fe...   \n",
       "705386  1334124efed8c6b3450105d711b2285722b5537ad6e1fe...   \n",
       "\n",
       "         ORDER_DATETIME_PST  PICKUP_DEADLINE_PST DELIVERY_TIME_CONSTRAINT  \\\n",
       "0       2022-05-19 09:21:39  2022-05-24 13:00:00                     NONE   \n",
       "1       2022-05-19 09:21:39  2022-05-24 13:00:00                     NONE   \n",
       "2       2022-05-19 09:21:39  2022-05-24 13:00:00                     NONE   \n",
       "3       2022-05-19 09:21:39  2022-05-24 13:00:00                     NONE   \n",
       "4       2022-05-19 09:21:39  2022-05-24 13:00:00                     NONE   \n",
       "...                     ...                  ...                      ...   \n",
       "705382  2022-09-30 10:46:37  2022-10-17 07:00:00                 SCHEDULE   \n",
       "705383  2022-09-30 10:46:37  2022-10-17 07:00:00                 SCHEDULE   \n",
       "705384  2022-09-30 10:46:37  2022-10-17 07:00:00                 SCHEDULE   \n",
       "705385  2022-09-30 10:46:37  2022-10-17 07:00:00                 SCHEDULE   \n",
       "705386  2022-09-30 10:46:37  2022-10-17 07:00:00                 SCHEDULE   \n",
       "\n",
       "       ORIGIN_3DIGIT_ZIP DESTINATION_3DIGIT_ZIP  \\\n",
       "0                    670                    630   \n",
       "1                    670                    630   \n",
       "2                    670                    630   \n",
       "3                    670                    630   \n",
       "4                    670                    630   \n",
       "...                  ...                    ...   \n",
       "705382               770                    754   \n",
       "705383               770                    754   \n",
       "705384               770                    754   \n",
       "705385               770                    754   \n",
       "705386               770                    754   \n",
       "\n",
       "        APPROXIMATE_DRIVING_ROUTE_MILEAGE  PALLETIZED_LINEAR_FEET  FD_ENABLED  \\\n",
       "0                                   414.0                    45.0         1.0   \n",
       "1                                   414.0                    45.0         1.0   \n",
       "2                                   414.0                    45.0         1.0   \n",
       "3                                   414.0                    45.0         1.0   \n",
       "4                                   414.0                    45.0         1.0   \n",
       "...                                   ...                     ...         ...   \n",
       "705382                              313.0                    52.0         1.0   \n",
       "705383                              313.0                    52.0         1.0   \n",
       "705384                              313.0                    52.0         1.0   \n",
       "705385                              313.0                    52.0         1.0   \n",
       "705386                              313.0                    52.0         1.0   \n",
       "\n",
       "        EXCLUSIVE_USE_REQUESTED  ...  OFFER_TYPE  SELF_SERVE  \\\n",
       "0                           1.0  ...       quote           0   \n",
       "1                           1.0  ...       quote           0   \n",
       "2                           1.0  ...       quote           0   \n",
       "3                           1.0  ...       quote           0   \n",
       "4                           1.0  ...       quote           0   \n",
       "...                         ...  ...         ...         ...   \n",
       "705382                      0.0  ...       quote           1   \n",
       "705383                      0.0  ...       quote           1   \n",
       "705384                      0.0  ...       quote           0   \n",
       "705385                      0.0  ...       quote           0   \n",
       "705386                      0.0  ...       quote           0   \n",
       "\n",
       "        IS_OFFER_APPROVED  AUTOMATICALLY_APPROVED  MANUALLY_APPROVED  \\\n",
       "0                       0                       0                  0   \n",
       "1                       0                       0                  0   \n",
       "2                       1                       0                  1   \n",
       "3                       0                       0                  0   \n",
       "4                       1                       0                  1   \n",
       "...                   ...                     ...                ...   \n",
       "705382                  1                       1                  0   \n",
       "705383                  0                       0                  0   \n",
       "705384                  1                       1                  0   \n",
       "705385                  1                       1                  0   \n",
       "705386                  1                       1                  0   \n",
       "\n",
       "        WAS_EVER_UNCOVERED COVERING_OFFER LOAD_DELIVERED_FROM_OFFER  \\\n",
       "0                        0              0                         0   \n",
       "1                        0              0                         0   \n",
       "2                        0              0                         0   \n",
       "3                        0              0                         0   \n",
       "4                        0              1                         1   \n",
       "...                    ...            ...                       ...   \n",
       "705382                   1              0                         0   \n",
       "705383                   0              0                         0   \n",
       "705384                   0              0                         0   \n",
       "705385                   0              0                         0   \n",
       "705386                   0              0                         0   \n",
       "\n",
       "       RECOMMENDED_LOAD  VALID  \n",
       "0                     0      1  \n",
       "1                     0      1  \n",
       "2                     0      0  \n",
       "3                     0      1  \n",
       "4                     0      1  \n",
       "...                 ...    ...  \n",
       "705382                0      1  \n",
       "705383                1      1  \n",
       "705384                0      1  \n",
       "705385                0      1  \n",
       "705386                0      0  \n",
       "\n",
       "[705271 rows x 30 columns]"
      ]
     },
     "execution_count": 30,
     "metadata": {},
     "output_type": "execute_result"
    }
   ],
   "source": [
    "oa"
   ]
  },
  {
   "cell_type": "code",
   "execution_count": null,
   "metadata": {},
   "outputs": [],
   "source": [
    "data_clean_first_time = 1\n",
    "\n",
    "PATH_FILE_oa = PATH_FOLDER + \"\\\\oa.csv\"\n",
    "\n",
    "if data_clean_first_time:\n",
    "    oa.to_csv(PATH_FILE_oa,index=False)\n",
    "    \n",
    "    #oa_orders[\"REFERENCE_NUMBER\"] = oa_orders[\"REFERENCE_NUMBER\"].str.split('''\"''').apply(lambda x: x[1])\n",
    "\n",
    "    #oa_orders.loc[:,bool_column_names] = (oa_orders.loc[:,bool_column_names]).astype(float)\n",
    "\n",
    "    #oa_orders.to_csv(PATH_FILE_OA_ORDERS,index=False)"
   ]
  }
 ],
 "metadata": {
  "kernelspec": {
   "display_name": "Python 3",
   "language": "python",
   "name": "python3"
  },
  "language_info": {
   "codemirror_mode": {
    "name": "ipython",
    "version": 3
   },
   "file_extension": ".py",
   "mimetype": "text/x-python",
   "name": "python",
   "nbconvert_exporter": "python",
   "pygments_lexer": "ipython3",
   "version": "3.7.4"
  }
 },
 "nbformat": 4,
 "nbformat_minor": 2
}
