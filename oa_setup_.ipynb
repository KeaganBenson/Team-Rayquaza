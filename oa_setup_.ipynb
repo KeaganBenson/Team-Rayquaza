{
 "cells": [
  {
   "cell_type": "code",
   "execution_count": 1,
   "metadata": {},
   "outputs": [],
   "source": [
    "import os\n",
    "import numpy as np\n",
    "import pandas as pd\n",
    "import matplotlib.pyplot as plt\n",
    "plt.style.use(\"ggplot\")\n",
    "plt.rcParams[\"figure.figsize\"] = (5,3)"
   ]
  },
  {
   "cell_type": "code",
   "execution_count": 2,
   "metadata": {},
   "outputs": [],
   "source": [
    "PATH_FOLDER = os.getcwd()"
   ]
  },
  {
   "cell_type": "code",
   "execution_count": 3,
   "metadata": {},
   "outputs": [],
   "source": [
    "FILENAME_OA_OFFERS = \"\\\\offer_acceptance_offers.csv\"\n",
    "PATH_FILE_OA_OFFERS = PATH_FOLDER + FILENAME_OA_OFFERS\n",
    "oa_offers_orig = pd.read_csv(PATH_FILE_OA_OFFERS)\n",
    "oa_offers = oa_offers_orig\n",
    "\n",
    "\n",
    "FILENAME_OA_ORDERS = \"\\\\offer_acceptance_orders.csv\"\n",
    "PATH_FILE_OA_ORDERS = PATH_FOLDER + FILENAME_OA_ORDERS\n",
    "oa_orders_orig = pd.read_csv(PATH_FILE_OA_ORDERS)\n",
    "oa_orders = oa_orders_orig"
   ]
  },
  {
   "cell_type": "code",
   "execution_count": 4,
   "metadata": {},
   "outputs": [],
   "source": [
    "FILENAME_ZIPCODE_COORDINATES = \"\\\\zipcode_coordinates.csv\"\n",
    "PATH_FILE_ZIPCODE_COORDINATES = PATH_FOLDER + FILENAME_ZIPCODE_COORDINATES\n",
    "zipcode_coordinates_orig = pd.read_csv(PATH_FILE_ZIPCODE_COORDINATES)\n",
    "zipcode_coordinates = zipcode_coordinates_orig"
   ]
  },
  {
   "cell_type": "code",
   "execution_count": 5,
   "metadata": {},
   "outputs": [],
   "source": [
    "# EDA FUNCTIONS:\n",
    "def check_nulls(df):\n",
    "    return df.isnull().mean(axis=0)\n",
    "\n",
    "def imputation_numerical_zero(column):\n",
    "    return 0\n",
    "\n",
    "def plot_numerical_column_histogram(\n",
    "    column, \n",
    "    show_logged=False, \n",
    "    imputes_null=False,\n",
    "    null_imputation_method=np.median\n",
    "):\n",
    "    \"\"\"\n",
    "    Given a numerical column, plot the histogram.\n",
    "    If show_logged set to True, show a secondary version of the plot but logged\n",
    "    \n",
    "    Args:\n",
    "        column (pd.Series): numerical column. \n",
    "        show_logged (boolean): if set to true, shows if the column can look normal if logged. \n",
    "        Only for right skewed columns with values 0 and inf\n",
    "        \n",
    "    Returns:\n",
    "        None\n",
    "    \"\"\"\n",
    "    column = column.copy()\n",
    "    if imputes_null == True:\n",
    "        imputation_value = null_imputation_method(column)\n",
    "        column.fillna(imputation_value, inplace=True)\n",
    "    if show_logged==False:\n",
    "        fig, axs = plt.subplots(figsize=(5,5))\n",
    "        axs.hist(column)\n",
    "        axs.set_title(\"Histogram\")\n",
    "    else:\n",
    "        fig, axs = plt.subplots(1,2,figsize=(10,5))\n",
    "        axs[0].hist(column)\n",
    "        axs[0].set_title(\"Histogram\")\n",
    "        axs[1].hist(column.apply(np.log1p))\n",
    "        axs[1].set_title(\"Histogram - logged\")\n",
    "    return axs\n",
    "\n",
    "def imputation_categorical_placeholder(column):\n",
    "    return \"__NULL_PLACEHOLDER__\"\n",
    "def imputation_categorical_mode(column):\n",
    "    return column.value_counts().index.values[0]\n",
    "\n",
    "def show_categorical_column_value_counts(\n",
    "    column, \n",
    "    imputes_null=False,\n",
    "    null_imputation_method=imputation_categorical_placeholder,\n",
    "):\n",
    "    \"\"\"\n",
    "    Shows frequency of categories in a categorical column\n",
    "    \n",
    "    Args:\n",
    "        column (pd.Series): categorical column. \n",
    "        imputes_null (boolean): if the column has nulls, asks to impute the column\n",
    "        null_imputation_method (callable): method on what to impute the column with, if imputes_null=True. \n",
    "        These methods should only return 1 value\n",
    "    Returns:\n",
    "        (pd.Series): the value_counts\n",
    "    \"\"\"\n",
    "    column = column.copy()\n",
    "    if imputes_null == True:\n",
    "        imputation_value = null_imputation_method(column)\n",
    "        column.fillna(imputation_value, inplace=True)\n",
    "        column = column.astype(str)\n",
    "    value_counts = column.value_counts(normalize=True)\n",
    "    return value_counts"
   ]
  },
  {
   "cell_type": "markdown",
   "metadata": {},
   "source": [
    "## **OA Offers**"
   ]
  },
  {
   "cell_type": "code",
   "execution_count": 6,
   "metadata": {
    "scrolled": false
   },
   "outputs": [
    {
     "data": {
      "text/html": [
       "<div>\n",
       "<style scoped>\n",
       "    .dataframe tbody tr th:only-of-type {\n",
       "        vertical-align: middle;\n",
       "    }\n",
       "\n",
       "    .dataframe tbody tr th {\n",
       "        vertical-align: top;\n",
       "    }\n",
       "\n",
       "    .dataframe thead th {\n",
       "        text-align: right;\n",
       "    }\n",
       "</style>\n",
       "<table border=\"1\" class=\"dataframe\">\n",
       "  <thead>\n",
       "    <tr style=\"text-align: right;\">\n",
       "      <th></th>\n",
       "      <th>CARRIER_ID</th>\n",
       "      <th>REFERENCE_NUMBER</th>\n",
       "      <th>CREATED_ON_HQ</th>\n",
       "      <th>RATE_USD</th>\n",
       "      <th>OFFER_TYPE</th>\n",
       "      <th>SELF_SERVE</th>\n",
       "      <th>IS_OFFER_APPROVED</th>\n",
       "      <th>AUTOMATICALLY_APPROVED</th>\n",
       "      <th>MANUALLY_APPROVED</th>\n",
       "      <th>WAS_EVER_UNCOVERED</th>\n",
       "      <th>COVERING_OFFER</th>\n",
       "      <th>LOAD_DELIVERED_FROM_OFFER</th>\n",
       "      <th>RECOMMENDED_LOAD</th>\n",
       "      <th>VALID</th>\n",
       "    </tr>\n",
       "  </thead>\n",
       "  <tbody>\n",
       "    <tr>\n",
       "      <th>0</th>\n",
       "      <td>0629d63476c157a6cfe234f7a34422eb0ad94998c2d082...</td>\n",
       "      <td>ce3548db155049cc1ccce2da041cec607942e4f779fc2d...</td>\n",
       "      <td>2021-11-03 08:54:13</td>\n",
       "      <td>9546.0</td>\n",
       "      <td>pool</td>\n",
       "      <td>1</td>\n",
       "      <td>0</td>\n",
       "      <td>0</td>\n",
       "      <td>0</td>\n",
       "      <td>0</td>\n",
       "      <td>0</td>\n",
       "      <td>0</td>\n",
       "      <td>1</td>\n",
       "      <td>1</td>\n",
       "    </tr>\n",
       "    <tr>\n",
       "      <th>1</th>\n",
       "      <td>0629d63476c157a6cfe234f7a34422eb0ad94998c2d082...</td>\n",
       "      <td>ce3548db155049cc1ccce2da041cec607942e4f779fc2d...</td>\n",
       "      <td>2021-11-03 08:57:27</td>\n",
       "      <td>9159.0</td>\n",
       "      <td>pool</td>\n",
       "      <td>1</td>\n",
       "      <td>1</td>\n",
       "      <td>0</td>\n",
       "      <td>1</td>\n",
       "      <td>0</td>\n",
       "      <td>1</td>\n",
       "      <td>1</td>\n",
       "      <td>1</td>\n",
       "      <td>1</td>\n",
       "    </tr>\n",
       "    <tr>\n",
       "      <th>2</th>\n",
       "      <td>0629d63476c157a6cfe234f7a34422eb0ad94998c2d082...</td>\n",
       "      <td>ce3548db155049cc1ccce2da041cec607942e4f779fc2d...</td>\n",
       "      <td>2021-11-03 08:57:28</td>\n",
       "      <td>9288.0</td>\n",
       "      <td>pool</td>\n",
       "      <td>0</td>\n",
       "      <td>0</td>\n",
       "      <td>0</td>\n",
       "      <td>0</td>\n",
       "      <td>0</td>\n",
       "      <td>0</td>\n",
       "      <td>0</td>\n",
       "      <td>0</td>\n",
       "      <td>1</td>\n",
       "    </tr>\n",
       "    <tr>\n",
       "      <th>3</th>\n",
       "      <td>0629d63476c157a6cfe234f7a34422eb0ad94998c2d082...</td>\n",
       "      <td>ce3548db155049cc1ccce2da041cec607942e4f779fc2d...</td>\n",
       "      <td>2021-11-03 08:57:40</td>\n",
       "      <td>9159.0</td>\n",
       "      <td>pool</td>\n",
       "      <td>0</td>\n",
       "      <td>1</td>\n",
       "      <td>0</td>\n",
       "      <td>1</td>\n",
       "      <td>0</td>\n",
       "      <td>0</td>\n",
       "      <td>0</td>\n",
       "      <td>0</td>\n",
       "      <td>1</td>\n",
       "    </tr>\n",
       "    <tr>\n",
       "      <th>4</th>\n",
       "      <td>16badfc6202cb3f8889e0f2779b19218af4cbb736e56ac...</td>\n",
       "      <td>ce3548db155049cc1ccce2da041cec607942e4f779fc2d...</td>\n",
       "      <td>2021-11-03 09:05:43</td>\n",
       "      <td>11610.0</td>\n",
       "      <td>pool</td>\n",
       "      <td>0</td>\n",
       "      <td>0</td>\n",
       "      <td>0</td>\n",
       "      <td>0</td>\n",
       "      <td>0</td>\n",
       "      <td>0</td>\n",
       "      <td>0</td>\n",
       "      <td>0</td>\n",
       "      <td>1</td>\n",
       "    </tr>\n",
       "  </tbody>\n",
       "</table>\n",
       "</div>"
      ],
      "text/plain": [
       "                                          CARRIER_ID  \\\n",
       "0  0629d63476c157a6cfe234f7a34422eb0ad94998c2d082...   \n",
       "1  0629d63476c157a6cfe234f7a34422eb0ad94998c2d082...   \n",
       "2  0629d63476c157a6cfe234f7a34422eb0ad94998c2d082...   \n",
       "3  0629d63476c157a6cfe234f7a34422eb0ad94998c2d082...   \n",
       "4  16badfc6202cb3f8889e0f2779b19218af4cbb736e56ac...   \n",
       "\n",
       "                                    REFERENCE_NUMBER        CREATED_ON_HQ  \\\n",
       "0  ce3548db155049cc1ccce2da041cec607942e4f779fc2d...  2021-11-03 08:54:13   \n",
       "1  ce3548db155049cc1ccce2da041cec607942e4f779fc2d...  2021-11-03 08:57:27   \n",
       "2  ce3548db155049cc1ccce2da041cec607942e4f779fc2d...  2021-11-03 08:57:28   \n",
       "3  ce3548db155049cc1ccce2da041cec607942e4f779fc2d...  2021-11-03 08:57:40   \n",
       "4  ce3548db155049cc1ccce2da041cec607942e4f779fc2d...  2021-11-03 09:05:43   \n",
       "\n",
       "   RATE_USD OFFER_TYPE  SELF_SERVE  IS_OFFER_APPROVED  AUTOMATICALLY_APPROVED  \\\n",
       "0    9546.0       pool           1                  0                       0   \n",
       "1    9159.0       pool           1                  1                       0   \n",
       "2    9288.0       pool           0                  0                       0   \n",
       "3    9159.0       pool           0                  1                       0   \n",
       "4   11610.0       pool           0                  0                       0   \n",
       "\n",
       "   MANUALLY_APPROVED  WAS_EVER_UNCOVERED  COVERING_OFFER  \\\n",
       "0                  0                   0               0   \n",
       "1                  1                   0               1   \n",
       "2                  0                   0               0   \n",
       "3                  1                   0               0   \n",
       "4                  0                   0               0   \n",
       "\n",
       "   LOAD_DELIVERED_FROM_OFFER  RECOMMENDED_LOAD  VALID  \n",
       "0                          0                 1      1  \n",
       "1                          1                 1      1  \n",
       "2                          0                 0      1  \n",
       "3                          0                 0      1  \n",
       "4                          0                 0      1  "
      ]
     },
     "execution_count": 6,
     "metadata": {},
     "output_type": "execute_result"
    }
   ],
   "source": [
    "oa_offers.head(5)"
   ]
  },
  {
   "cell_type": "markdown",
   "metadata": {},
   "source": [
    "### OA Offers EDA"
   ]
  },
  {
   "cell_type": "code",
   "execution_count": 7,
   "metadata": {},
   "outputs": [],
   "source": [
    "temp_df = oa_offers"
   ]
  },
  {
   "cell_type": "code",
   "execution_count": 8,
   "metadata": {
    "scrolled": true
   },
   "outputs": [
    {
     "data": {
      "text/plain": [
       "CARRIER_ID                   0.0\n",
       "REFERENCE_NUMBER             0.0\n",
       "CREATED_ON_HQ                0.0\n",
       "RATE_USD                     0.0\n",
       "OFFER_TYPE                   0.0\n",
       "SELF_SERVE                   0.0\n",
       "IS_OFFER_APPROVED            0.0\n",
       "AUTOMATICALLY_APPROVED       0.0\n",
       "MANUALLY_APPROVED            0.0\n",
       "WAS_EVER_UNCOVERED           0.0\n",
       "COVERING_OFFER               0.0\n",
       "LOAD_DELIVERED_FROM_OFFER    0.0\n",
       "RECOMMENDED_LOAD             0.0\n",
       "VALID                        0.0\n",
       "dtype: float64"
      ]
     },
     "execution_count": 8,
     "metadata": {},
     "output_type": "execute_result"
    }
   ],
   "source": [
    "check_nulls(temp_df)"
   ]
  },
  {
   "cell_type": "code",
   "execution_count": 9,
   "metadata": {},
   "outputs": [],
   "source": [
    "bool_column_names = ['SELF_SERVE', 'IS_OFFER_APPROVED',\n",
    "       'AUTOMATICALLY_APPROVED', 'MANUALLY_APPROVED', 'WAS_EVER_UNCOVERED',\n",
    "       'COVERING_OFFER', 'LOAD_DELIVERED_FROM_OFFER', 'RECOMMENDED_LOAD', 'VALID']\n",
    "categorical_column_names = [\"OFFER_TYPE\"]\n",
    "numerical_column_names = [\"RATE_USD\"]"
   ]
  },
  {
   "cell_type": "code",
   "execution_count": 10,
   "metadata": {
    "scrolled": true
   },
   "outputs": [
    {
     "data": {
      "text/plain": [
       "quote    0.840263\n",
       "pool     0.159737\n",
       "Name: OFFER_TYPE, dtype: float64"
      ]
     },
     "execution_count": 10,
     "metadata": {},
     "output_type": "execute_result"
    }
   ],
   "source": [
    "show_categorical_column_value_counts(temp_df[\"OFFER_TYPE\"])"
   ]
  },
  {
   "cell_type": "code",
   "execution_count": 11,
   "metadata": {
    "scrolled": false
   },
   "outputs": [
    {
     "data": {
      "image/png": "[encoded data removed]",
      "text/plain": [
       "<Figure size 720x360 with 2 Axes>"
      ]
     },
     "metadata": {
      "needs_background": "light"
     },
     "output_type": "display_data"
    }
   ],
   "source": [
    " _= plot_numerical_column_histogram(temp_df[\"RATE_USD\"], True)"
   ]
  },
  {
   "cell_type": "code",
   "execution_count": 12,
   "metadata": {
    "scrolled": true
   },
   "outputs": [
    {
     "data": {
      "text/plain": [
       "SELF_SERVE                   0.356980\n",
       "IS_OFFER_APPROVED            0.270522\n",
       "AUTOMATICALLY_APPROVED       0.085904\n",
       "MANUALLY_APPROVED            0.186036\n",
       "WAS_EVER_UNCOVERED           0.056934\n",
       "COVERING_OFFER               0.211056\n",
       "LOAD_DELIVERED_FROM_OFFER    0.206284\n",
       "RECOMMENDED_LOAD             0.225527\n",
       "VALID                        0.953419\n",
       "dtype: float64"
      ]
     },
     "execution_count": 12,
     "metadata": {},
     "output_type": "execute_result"
    }
   ],
   "source": [
    "temp_df[bool_column_names].mean(axis=0)"
   ]
  },
  {
   "cell_type": "markdown",
   "metadata": {},
   "source": [
    "### OA Offers Data Cleaning"
   ]
  },
  {
   "cell_type": "code",
   "execution_count": 13,
   "metadata": {},
   "outputs": [],
   "source": [
    "data_clean_first_time = False\n",
    "\n",
    "if data_clean_first_time:\n",
    "    \n",
    "    oa_offers[\"REFERENCE_NUMBER\"] = oa_offers[\"REFERENCE_NUMBER\"].str.split('''\"''').apply(lambda x: x[1])\n",
    "    \n",
    "    oa_offers[\"CREATED_ON_HQ\"] = pd.to_datetime(oa_offers[\"CREATED_ON_HQ\"])\n",
    "\n",
    "    oa_offers.loc[:,bool_column_names] = (oa_offers.loc[:,bool_column_names]).astype(float)\n",
    "\n",
    "    oa_offers.to_csv(PATH_FILE_OA_OFFERS,index=False)"
   ]
  },
  {
   "cell_type": "markdown",
   "metadata": {},
   "source": [
    "## OA Orders"
   ]
  },
  {
   "cell_type": "markdown",
   "metadata": {},
   "source": [
    "### OA Orders EDA"
   ]
  },
  {
   "cell_type": "code",
   "execution_count": 14,
   "metadata": {},
   "outputs": [],
   "source": [
    "temp_df = oa_orders"
   ]
  },
  {
   "cell_type": "code",
   "execution_count": 15,
   "metadata": {},
   "outputs": [
    {
     "data": {
      "text/plain": [
       "REFERENCE_NUMBER                     0.000000\n",
       "ORDER_DATETIME_PST                   0.000000\n",
       "PICKUP_DEADLINE_PST                  0.000000\n",
       "DELIVERY_TIME_CONSTRAINT             0.000025\n",
       "ORIGIN_3DIGIT_ZIP                    0.000025\n",
       "DESTINATION_3DIGIT_ZIP               0.000025\n",
       "APPROXIMATE_DRIVING_ROUTE_MILEAGE    0.003236\n",
       "PALLETIZED_LINEAR_FEET               0.000025\n",
       "FD_ENABLED                           0.002406\n",
       "EXCLUSIVE_USE_REQUESTED              0.000025\n",
       "HAZARDOUS                            0.000025\n",
       "REEFER_ALLOWED                       0.000025\n",
       "STRAIGHT_TRUCK_ALLOWED               0.000025\n",
       "LOAD_BAR_COUNT                       0.000025\n",
       "LOAD_TO_RIDE_REQUESTED               0.000025\n",
       "ESTIMATED_COST_AT_ORDER              0.000000\n",
       "TRANSPORT_MODE                       0.000064\n",
       "dtype: float64"
      ]
     },
     "execution_count": 15,
     "metadata": {},
     "output_type": "execute_result"
    }
   ],
   "source": [
    "check_nulls(temp_df)"
   ]
  },
  {
   "cell_type": "code",
   "execution_count": 16,
   "metadata": {
    "scrolled": true
   },
   "outputs": [],
   "source": [
    "bool_column_names = ['FD_ENABLED', 'EXCLUSIVE_USE_REQUESTED','HAZARDOUS', \n",
    "                     'REEFER_ALLOWED', 'STRAIGHT_TRUCK_ALLOWED','LOAD_TO_RIDE_REQUESTED']\n",
    "numerical_column_names = [\"ESTIMATED_COST_AT_ORDER\",\n",
    "                          \"APPROXIMATE_DRIVING_ROUTE_MILEAGE\",\n",
    "                          \"PALLETIZED_LINEAR_FEET\",\n",
    "                          \"LOAD_BAR_COUNT\"]\n",
    "categorical_column_names = [\"DELIVERY_TIME_CONSTRAINT\",\"TRANSPORT_MODE\"]"
   ]
  },
  {
   "cell_type": "code",
   "execution_count": 17,
   "metadata": {},
   "outputs": [
    {
     "data": {
      "text/plain": [
       "PTL             0.480291\n",
       "FTL             0.283935\n",
       "LTL             0.198563\n",
       "VLTL            0.032938\n",
       "CONSOLIDATOR    0.004272\n",
       "Name: TRANSPORT_MODE, dtype: float64"
      ]
     },
     "execution_count": 17,
     "metadata": {},
     "output_type": "execute_result"
    }
   ],
   "source": [
    "show_categorical_column_value_counts(temp_df[\"TRANSPORT_MODE\"])"
   ]
  },
  {
   "cell_type": "code",
   "execution_count": 18,
   "metadata": {},
   "outputs": [
    {
     "data": {
      "text/plain": [
       "SCHEDULE                  0.519350\n",
       "NONE                      0.402497\n",
       "DEADLINE_WITH_SCHEDULE    0.024204\n",
       "NOTIFY                    0.019110\n",
       "APPOINTMENT               0.018523\n",
       "WINDOW                    0.011121\n",
       "DEADLINE                  0.005194\n",
       "Name: DELIVERY_TIME_CONSTRAINT, dtype: float64"
      ]
     },
     "execution_count": 18,
     "metadata": {},
     "output_type": "execute_result"
    }
   ],
   "source": [
    "show_categorical_column_value_counts(temp_df[\"DELIVERY_TIME_CONSTRAINT\"])"
   ]
  },
  {
   "cell_type": "code",
   "execution_count": 19,
   "metadata": {},
   "outputs": [
    {
     "data": {
      "image/png": "[encoded data removed]",
      "text/plain": [
       "<Figure size 720x360 with 2 Axes>"
      ]
     },
     "metadata": {
      "needs_background": "light"
     },
     "output_type": "display_data"
    }
   ],
   "source": [
    " _= plot_numerical_column_histogram(temp_df[\"LOAD_BAR_COUNT\"], True)"
   ]
  },
  {
   "cell_type": "code",
   "execution_count": 20,
   "metadata": {},
   "outputs": [
    {
     "data": {
      "image/png": "[encoded data removed]",
      "text/plain": [
       "<Figure size 720x360 with 2 Axes>"
      ]
     },
     "metadata": {
      "needs_background": "light"
     },
     "output_type": "display_data"
    }
   ],
   "source": [
    " _= plot_numerical_column_histogram(temp_df[\"PALLETIZED_LINEAR_FEET\"], True)"
   ]
  },
  {
   "cell_type": "code",
   "execution_count": 21,
   "metadata": {},
   "outputs": [
    {
     "data": {
      "image/png": "[encoded data removed]",
      "text/plain": [
       "<Figure size 720x360 with 2 Axes>"
      ]
     },
     "metadata": {
      "needs_background": "light"
     },
     "output_type": "display_data"
    }
   ],
   "source": [
    " _= plot_numerical_column_histogram(temp_df[\"APPROXIMATE_DRIVING_ROUTE_MILEAGE\"], True)"
   ]
  },
  {
   "cell_type": "code",
   "execution_count": 22,
   "metadata": {},
   "outputs": [
    {
     "data": {
      "image/png": "[encoded data removed]",
      "text/plain": [
       "<Figure size 720x360 with 2 Axes>"
      ]
     },
     "metadata": {
      "needs_background": "light"
     },
     "output_type": "display_data"
    }
   ],
   "source": [
    " _= plot_numerical_column_histogram(temp_df[\"ESTIMATED_COST_AT_ORDER\"], True)"
   ]
  },
  {
   "cell_type": "code",
   "execution_count": 23,
   "metadata": {},
   "outputs": [
    {
     "data": {
      "image/png": "[encoded data removed]",
      "text/plain": [
       "<Figure size 720x360 with 2 Axes>"
      ]
     },
     "metadata": {
      "needs_background": "light"
     },
     "output_type": "display_data"
    }
   ],
   "source": [
    "time_between_order_and_deadline_column = (\n",
    "    pd.to_datetime(temp_df[\"PICKUP_DEADLINE_PST\"]) - pd.to_datetime(temp_df[\"ORDER_DATETIME_PST\"])\n",
    ")\n",
    "seconds_between_order_and_deadline_column = (\n",
    " time_between_order_and_deadline_column / np.timedelta64(1, 's')\n",
    ")\n",
    "_ = plot_numerical_column_histogram(seconds_between_order_and_deadline_column, True)"
   ]
  },
  {
   "cell_type": "code",
   "execution_count": 24,
   "metadata": {},
   "outputs": [
    {
     "data": {
      "text/plain": [
       "FD_ENABLED                 0.999368\n",
       "EXCLUSIVE_USE_REQUESTED    0.145191\n",
       "HAZARDOUS                  0.001374\n",
       "REEFER_ALLOWED             0.734317\n",
       "STRAIGHT_TRUCK_ALLOWED     0.707760\n",
       "LOAD_TO_RIDE_REQUESTED     0.271945\n",
       "dtype: float64"
      ]
     },
     "execution_count": 24,
     "metadata": {},
     "output_type": "execute_result"
    }
   ],
   "source": [
    "bool_column_names = ['FD_ENABLED', 'EXCLUSIVE_USE_REQUESTED','HAZARDOUS', \n",
    "                     'REEFER_ALLOWED', 'STRAIGHT_TRUCK_ALLOWED','LOAD_TO_RIDE_REQUESTED']\n",
    "oa_orders[bool_column_names].mean(axis=0)"
   ]
  },
  {
   "cell_type": "markdown",
   "metadata": {},
   "source": [
    "### OA Orders Data Cleaning"
   ]
  },
  {
   "cell_type": "code",
   "execution_count": 25,
   "metadata": {},
   "outputs": [],
   "source": [
    "data_clean_first_time = False\n",
    "\n",
    "if data_clean_first_time:\n",
    "    \n",
    "    oa_orders[\"REFERENCE_NUMBER\"] = oa_orders[\"REFERENCE_NUMBER\"].str.split('''\"''').apply(lambda x: x[1])\n",
    "    \n",
    "    oa_orders[\"ORDER_DATETIME_PST\"] = pd.to_datetime(oa_orders[\"ORDER_DATETIME_PST\"])\n",
    "    \n",
    "    oa_orders[\"PICKUP_DEADLINE_PST\"] = pd.to_datetime(oa_orders[\"PICKUP_DEADLINE_PST\"])\n",
    "\n",
    "    oa_orders.loc[:,bool_column_names] = (oa_orders.loc[:,bool_column_names]).astype(float)\n",
    "\n",
    "    oa_orders.to_csv(PATH_FILE_OA_ORDERS,index=False)"
   ]
  },
  {
   "cell_type": "markdown",
   "metadata": {},
   "source": [
    "## OA Join"
   ]
  },
  {
   "cell_type": "code",
   "execution_count": 26,
   "metadata": {},
   "outputs": [],
   "source": [
    "def dataclean_ftl_duplicate_references(oa):\n",
    "    '''\n",
    "    Part of a greater data cleaning on removing incorrect FTL labels,\n",
    "    Removes FTL rows that have reference numbers that show up more than once, as those rows are incorrectly labeled FTL\n",
    "    '''\n",
    "    assert \"TRANSPORT_MODE\" in oa.columns\n",
    "    assert \"REFERENCE_NUMBER\" in oa.columns\n",
    "    oa_ftl = oa[oa[\"TRANSPORT_MODE\"]==\"FTL\"]\n",
    "    temp_counter = oa_ftl[\"REFERENCE_NUMBER\"].value_counts()\n",
    "    temp_counter = temp_counter.reset_index().rename(columns={\"index\":\"REFERENCE_NUMBER\",\"REFERENCE_NUMBER\":\"count\"})\n",
    "    oa_ftl_counted = oa_ftl.merge(temp_counter,on=[\"REFERENCE_NUMBER\"])\n",
    "    oa_ftl_duplicate_reference_numbers = oa_ftl_counted[oa_ftl_counted[\"count\"]>1]\n",
    "    oa = oa.drop(list(oa_ftl_duplicate_reference_numbers.index), axis=0)    \n",
    "    return oa\n",
    "\n",
    "def dataclean_ftl_nonquote(oa):\n",
    "    '''\n",
    "    Part of a greater data cleaning on removing incorrect FTL labels,\n",
    "    Removes FTL rows that don't have quote as the transport mode\n",
    "    '''\n",
    "    assert \"OFFER_TYPE\" in oa.columns\n",
    "    assert \"TRANSPORT_MODE\" in oa.columns    \n",
    "    oa = oa[~((oa[\"TRANSPORT_MODE\"]==\"FTL\") & (oa[\"OFFER_TYPE\"]!=\"quote\"))]\n",
    "    return oa\n"
   ]
  },
  {
   "cell_type": "code",
   "execution_count": 29,
   "metadata": {},
   "outputs": [],
   "source": [
    "PATH_FILE_oa = PATH_FOLDER + \"\\\\oa.csv\"\n",
    "\n",
    "data_clean_first_time = 1\n",
    "if data_clean_first_time:\n",
    "    zipcode_coordinates[\"3DIGIT_ZIP\"] =  zipcode_coordinates[\"3DIGIT_ZIP\"].astype(str).str.zfill(3)\n",
    "    oa_orders = oa_orders.merge(zipcode_coordinates, \n",
    "                                left_on=[\"ORIGIN_3DIGIT_ZIP\"],\n",
    "                                right_on=[\"3DIGIT_ZIP\"],\n",
    "                                 suffixes=(None, \"_ORIG\")\n",
    "                               )\n",
    "    oa_orders = oa_orders.merge(zipcode_coordinates, \n",
    "                                left_on=[\"DESTINATION_3DIGIT_ZIP\"],\n",
    "                                right_on=[\"3DIGIT_ZIP\"],\n",
    "                                 suffixes=(None, \"_DEST\")\n",
    "                               )\n",
    "    \n",
    "    oa_orders = dataclean_ftl_duplicate_references(oa_orders)\n",
    "    \n",
    "    oa = oa_orders.merge(oa_offers, on=[\"REFERENCE_NUMBER\"],how=\"inner\")\n",
    "    \n",
    "    \n",
    "    \n",
    "    oa = dataclean_ftl_nonquote(oa)\n",
    "    \n",
    "    \n",
    "else:\n",
    "    oa = pd.read_csv(PATH_FILE_oa)"
   ]
  },
  {
   "cell_type": "code",
   "execution_count": 30,
   "metadata": {},
   "outputs": [
    {
     "data": {
      "text/html": [
       "<div>\n",
       "<style scoped>\n",
       "    .dataframe tbody tr th:only-of-type {\n",
       "        vertical-align: middle;\n",
       "    }\n",
       "\n",
       "    .dataframe tbody tr th {\n",
       "        vertical-align: top;\n",
       "    }\n",
       "\n",
       "    .dataframe thead th {\n",
       "        text-align: right;\n",
       "    }\n",
       "</style>\n",
       "<table border=\"1\" class=\"dataframe\">\n",
       "  <thead>\n",
       "    <tr style=\"text-align: right;\">\n",
       "      <th></th>\n",
       "      <th>REFERENCE_NUMBER</th>\n",
       "      <th>ORDER_DATETIME_PST</th>\n",
       "      <th>PICKUP_DEADLINE_PST</th>\n",
       "      <th>DELIVERY_TIME_CONSTRAINT</th>\n",
       "      <th>ORIGIN_3DIGIT_ZIP</th>\n",
       "      <th>DESTINATION_3DIGIT_ZIP</th>\n",
       "      <th>APPROXIMATE_DRIVING_ROUTE_MILEAGE</th>\n",
       "      <th>PALLETIZED_LINEAR_FEET</th>\n",
       "      <th>FD_ENABLED</th>\n",
       "      <th>EXCLUSIVE_USE_REQUESTED</th>\n",
       "      <th>...</th>\n",
       "      <th>OFFER_TYPE</th>\n",
       "      <th>SELF_SERVE</th>\n",
       "      <th>IS_OFFER_APPROVED</th>\n",
       "      <th>AUTOMATICALLY_APPROVED</th>\n",
       "      <th>MANUALLY_APPROVED</th>\n",
       "      <th>WAS_EVER_UNCOVERED</th>\n",
       "      <th>COVERING_OFFER</th>\n",
       "      <th>LOAD_DELIVERED_FROM_OFFER</th>\n",
       "      <th>RECOMMENDED_LOAD</th>\n",
       "      <th>VALID</th>\n",
       "    </tr>\n",
       "  </thead>\n",
       "  <tbody>\n",
       "    <tr>\n",
       "      <th>0</th>\n",
       "      <td>a99dea3aae3256e702b6ccd9789c758b4cb5e359120dc5...</td>\n",
       "      <td>2022-06-03 14:36:44</td>\n",
       "      <td>2022-06-07 10:00:00</td>\n",
       "      <td>SCHEDULE</td>\n",
       "      <td>386</td>\n",
       "      <td>080</td>\n",
       "      <td>1041.0</td>\n",
       "      <td>36.0</td>\n",
       "      <td>1.0</td>\n",
       "      <td>0.0</td>\n",
       "      <td>...</td>\n",
       "      <td>quote</td>\n",
       "      <td>0</td>\n",
       "      <td>1</td>\n",
       "      <td>0</td>\n",
       "      <td>1</td>\n",
       "      <td>0</td>\n",
       "      <td>1</td>\n",
       "      <td>1</td>\n",
       "      <td>0</td>\n",
       "      <td>1</td>\n",
       "    </tr>\n",
       "    <tr>\n",
       "      <th>1</th>\n",
       "      <td>a99dea3aae3256e702b6ccd9789c758b4cb5e359120dc5...</td>\n",
       "      <td>2022-06-03 14:36:44</td>\n",
       "      <td>2022-06-07 10:00:00</td>\n",
       "      <td>SCHEDULE</td>\n",
       "      <td>386</td>\n",
       "      <td>080</td>\n",
       "      <td>1041.0</td>\n",
       "      <td>36.0</td>\n",
       "      <td>1.0</td>\n",
       "      <td>0.0</td>\n",
       "      <td>...</td>\n",
       "      <td>quote</td>\n",
       "      <td>1</td>\n",
       "      <td>0</td>\n",
       "      <td>0</td>\n",
       "      <td>0</td>\n",
       "      <td>0</td>\n",
       "      <td>0</td>\n",
       "      <td>0</td>\n",
       "      <td>0</td>\n",
       "      <td>1</td>\n",
       "    </tr>\n",
       "    <tr>\n",
       "      <th>2</th>\n",
       "      <td>a99dea3aae3256e702b6ccd9789c758b4cb5e359120dc5...</td>\n",
       "      <td>2022-06-03 14:36:44</td>\n",
       "      <td>2022-06-07 10:00:00</td>\n",
       "      <td>SCHEDULE</td>\n",
       "      <td>386</td>\n",
       "      <td>080</td>\n",
       "      <td>1041.0</td>\n",
       "      <td>36.0</td>\n",
       "      <td>1.0</td>\n",
       "      <td>0.0</td>\n",
       "      <td>...</td>\n",
       "      <td>quote</td>\n",
       "      <td>1</td>\n",
       "      <td>0</td>\n",
       "      <td>0</td>\n",
       "      <td>0</td>\n",
       "      <td>0</td>\n",
       "      <td>0</td>\n",
       "      <td>0</td>\n",
       "      <td>0</td>\n",
       "      <td>1</td>\n",
       "    </tr>\n",
       "    <tr>\n",
       "      <th>3</th>\n",
       "      <td>a99dea3aae3256e702b6ccd9789c758b4cb5e359120dc5...</td>\n",
       "      <td>2022-06-03 14:36:44</td>\n",
       "      <td>2022-06-07 10:00:00</td>\n",
       "      <td>SCHEDULE</td>\n",
       "      <td>386</td>\n",
       "      <td>080</td>\n",
       "      <td>1041.0</td>\n",
       "      <td>36.0</td>\n",
       "      <td>1.0</td>\n",
       "      <td>0.0</td>\n",
       "      <td>...</td>\n",
       "      <td>quote</td>\n",
       "      <td>1</td>\n",
       "      <td>0</td>\n",
       "      <td>0</td>\n",
       "      <td>0</td>\n",
       "      <td>0</td>\n",
       "      <td>0</td>\n",
       "      <td>0</td>\n",
       "      <td>0</td>\n",
       "      <td>1</td>\n",
       "    </tr>\n",
       "    <tr>\n",
       "      <th>4</th>\n",
       "      <td>a99dea3aae3256e702b6ccd9789c758b4cb5e359120dc5...</td>\n",
       "      <td>2022-06-03 14:36:44</td>\n",
       "      <td>2022-06-07 10:00:00</td>\n",
       "      <td>SCHEDULE</td>\n",
       "      <td>386</td>\n",
       "      <td>080</td>\n",
       "      <td>1041.0</td>\n",
       "      <td>36.0</td>\n",
       "      <td>1.0</td>\n",
       "      <td>0.0</td>\n",
       "      <td>...</td>\n",
       "      <td>quote</td>\n",
       "      <td>1</td>\n",
       "      <td>0</td>\n",
       "      <td>0</td>\n",
       "      <td>0</td>\n",
       "      <td>0</td>\n",
       "      <td>0</td>\n",
       "      <td>0</td>\n",
       "      <td>0</td>\n",
       "      <td>1</td>\n",
       "    </tr>\n",
       "    <tr>\n",
       "      <th>...</th>\n",
       "      <td>...</td>\n",
       "      <td>...</td>\n",
       "      <td>...</td>\n",
       "      <td>...</td>\n",
       "      <td>...</td>\n",
       "      <td>...</td>\n",
       "      <td>...</td>\n",
       "      <td>...</td>\n",
       "      <td>...</td>\n",
       "      <td>...</td>\n",
       "      <td>...</td>\n",
       "      <td>...</td>\n",
       "      <td>...</td>\n",
       "      <td>...</td>\n",
       "      <td>...</td>\n",
       "      <td>...</td>\n",
       "      <td>...</td>\n",
       "      <td>...</td>\n",
       "      <td>...</td>\n",
       "      <td>...</td>\n",
       "      <td>...</td>\n",
       "    </tr>\n",
       "    <tr>\n",
       "      <th>705187</th>\n",
       "      <td>ce96cd69bb3268eaef40cfd608f21e3ee506582dc8092d...</td>\n",
       "      <td>2021-11-18 10:43:11</td>\n",
       "      <td>2021-11-23 12:00:00</td>\n",
       "      <td>SCHEDULE</td>\n",
       "      <td>664</td>\n",
       "      <td>644</td>\n",
       "      <td>171.0</td>\n",
       "      <td>52.0</td>\n",
       "      <td>1.0</td>\n",
       "      <td>0.0</td>\n",
       "      <td>...</td>\n",
       "      <td>quote</td>\n",
       "      <td>0</td>\n",
       "      <td>1</td>\n",
       "      <td>0</td>\n",
       "      <td>1</td>\n",
       "      <td>0</td>\n",
       "      <td>1</td>\n",
       "      <td>1</td>\n",
       "      <td>0</td>\n",
       "      <td>1</td>\n",
       "    </tr>\n",
       "    <tr>\n",
       "      <th>705188</th>\n",
       "      <td>ce96cd69bb3268eaef40cfd608f21e3ee506582dc8092d...</td>\n",
       "      <td>2021-11-18 10:43:11</td>\n",
       "      <td>2021-11-23 12:00:00</td>\n",
       "      <td>SCHEDULE</td>\n",
       "      <td>664</td>\n",
       "      <td>644</td>\n",
       "      <td>171.0</td>\n",
       "      <td>52.0</td>\n",
       "      <td>1.0</td>\n",
       "      <td>0.0</td>\n",
       "      <td>...</td>\n",
       "      <td>quote</td>\n",
       "      <td>0</td>\n",
       "      <td>0</td>\n",
       "      <td>0</td>\n",
       "      <td>0</td>\n",
       "      <td>0</td>\n",
       "      <td>0</td>\n",
       "      <td>0</td>\n",
       "      <td>0</td>\n",
       "      <td>0</td>\n",
       "    </tr>\n",
       "    <tr>\n",
       "      <th>705189</th>\n",
       "      <td>ce96cd69bb3268eaef40cfd608f21e3ee506582dc8092d...</td>\n",
       "      <td>2021-11-18 10:43:11</td>\n",
       "      <td>2021-11-23 12:00:00</td>\n",
       "      <td>SCHEDULE</td>\n",
       "      <td>664</td>\n",
       "      <td>644</td>\n",
       "      <td>171.0</td>\n",
       "      <td>52.0</td>\n",
       "      <td>1.0</td>\n",
       "      <td>0.0</td>\n",
       "      <td>...</td>\n",
       "      <td>quote</td>\n",
       "      <td>0</td>\n",
       "      <td>0</td>\n",
       "      <td>0</td>\n",
       "      <td>0</td>\n",
       "      <td>0</td>\n",
       "      <td>0</td>\n",
       "      <td>0</td>\n",
       "      <td>0</td>\n",
       "      <td>0</td>\n",
       "    </tr>\n",
       "    <tr>\n",
       "      <th>705190</th>\n",
       "      <td>5bdf148a4de2b17db57fd9403b48877429ceca12c5b7dd...</td>\n",
       "      <td>2021-08-10 08:11:31</td>\n",
       "      <td>2021-08-11 13:00:00</td>\n",
       "      <td>SCHEDULE</td>\n",
       "      <td>597</td>\n",
       "      <td>583</td>\n",
       "      <td>743.0</td>\n",
       "      <td>53.0</td>\n",
       "      <td>1.0</td>\n",
       "      <td>0.0</td>\n",
       "      <td>...</td>\n",
       "      <td>quote</td>\n",
       "      <td>0</td>\n",
       "      <td>1</td>\n",
       "      <td>0</td>\n",
       "      <td>1</td>\n",
       "      <td>0</td>\n",
       "      <td>1</td>\n",
       "      <td>1</td>\n",
       "      <td>0</td>\n",
       "      <td>1</td>\n",
       "    </tr>\n",
       "    <tr>\n",
       "      <th>705191</th>\n",
       "      <td>12b1f8212be2d8f2e9354862ca9cf70c3509a3b565a1d0...</td>\n",
       "      <td>2022-08-31 09:30:41</td>\n",
       "      <td>2022-09-01 13:00:00</td>\n",
       "      <td>SCHEDULE</td>\n",
       "      <td>328</td>\n",
       "      <td>556</td>\n",
       "      <td>NaN</td>\n",
       "      <td>4.0</td>\n",
       "      <td>1.0</td>\n",
       "      <td>1.0</td>\n",
       "      <td>...</td>\n",
       "      <td>quote</td>\n",
       "      <td>1</td>\n",
       "      <td>0</td>\n",
       "      <td>0</td>\n",
       "      <td>0</td>\n",
       "      <td>0</td>\n",
       "      <td>0</td>\n",
       "      <td>0</td>\n",
       "      <td>1</td>\n",
       "      <td>1</td>\n",
       "    </tr>\n",
       "  </tbody>\n",
       "</table>\n",
       "<p>705076 rows × 36 columns</p>\n",
       "</div>"
      ],
      "text/plain": [
       "                                         REFERENCE_NUMBER  \\\n",
       "0       a99dea3aae3256e702b6ccd9789c758b4cb5e359120dc5...   \n",
       "1       a99dea3aae3256e702b6ccd9789c758b4cb5e359120dc5...   \n",
       "2       a99dea3aae3256e702b6ccd9789c758b4cb5e359120dc5...   \n",
       "3       a99dea3aae3256e702b6ccd9789c758b4cb5e359120dc5...   \n",
       "4       a99dea3aae3256e702b6ccd9789c758b4cb5e359120dc5...   \n",
       "...                                                   ...   \n",
       "705187  ce96cd69bb3268eaef40cfd608f21e3ee506582dc8092d...   \n",
       "705188  ce96cd69bb3268eaef40cfd608f21e3ee506582dc8092d...   \n",
       "705189  ce96cd69bb3268eaef40cfd608f21e3ee506582dc8092d...   \n",
       "705190  5bdf148a4de2b17db57fd9403b48877429ceca12c5b7dd...   \n",
       "705191  12b1f8212be2d8f2e9354862ca9cf70c3509a3b565a1d0...   \n",
       "\n",
       "         ORDER_DATETIME_PST  PICKUP_DEADLINE_PST DELIVERY_TIME_CONSTRAINT  \\\n",
       "0       2022-06-03 14:36:44  2022-06-07 10:00:00                 SCHEDULE   \n",
       "1       2022-06-03 14:36:44  2022-06-07 10:00:00                 SCHEDULE   \n",
       "2       2022-06-03 14:36:44  2022-06-07 10:00:00                 SCHEDULE   \n",
       "3       2022-06-03 14:36:44  2022-06-07 10:00:00                 SCHEDULE   \n",
       "4       2022-06-03 14:36:44  2022-06-07 10:00:00                 SCHEDULE   \n",
       "...                     ...                  ...                      ...   \n",
       "705187  2021-11-18 10:43:11  2021-11-23 12:00:00                 SCHEDULE   \n",
       "705188  2021-11-18 10:43:11  2021-11-23 12:00:00                 SCHEDULE   \n",
       "705189  2021-11-18 10:43:11  2021-11-23 12:00:00                 SCHEDULE   \n",
       "705190  2021-08-10 08:11:31  2021-08-11 13:00:00                 SCHEDULE   \n",
       "705191  2022-08-31 09:30:41  2022-09-01 13:00:00                 SCHEDULE   \n",
       "\n",
       "       ORIGIN_3DIGIT_ZIP DESTINATION_3DIGIT_ZIP  \\\n",
       "0                    386                    080   \n",
       "1                    386                    080   \n",
       "2                    386                    080   \n",
       "3                    386                    080   \n",
       "4                    386                    080   \n",
       "...                  ...                    ...   \n",
       "705187               664                    644   \n",
       "705188               664                    644   \n",
       "705189               664                    644   \n",
       "705190               597                    583   \n",
       "705191               328                    556   \n",
       "\n",
       "        APPROXIMATE_DRIVING_ROUTE_MILEAGE  PALLETIZED_LINEAR_FEET  FD_ENABLED  \\\n",
       "0                                  1041.0                    36.0         1.0   \n",
       "1                                  1041.0                    36.0         1.0   \n",
       "2                                  1041.0                    36.0         1.0   \n",
       "3                                  1041.0                    36.0         1.0   \n",
       "4                                  1041.0                    36.0         1.0   \n",
       "...                                   ...                     ...         ...   \n",
       "705187                              171.0                    52.0         1.0   \n",
       "705188                              171.0                    52.0         1.0   \n",
       "705189                              171.0                    52.0         1.0   \n",
       "705190                              743.0                    53.0         1.0   \n",
       "705191                                NaN                     4.0         1.0   \n",
       "\n",
       "        EXCLUSIVE_USE_REQUESTED  ...  OFFER_TYPE  SELF_SERVE  \\\n",
       "0                           0.0  ...       quote           0   \n",
       "1                           0.0  ...       quote           1   \n",
       "2                           0.0  ...       quote           1   \n",
       "3                           0.0  ...       quote           1   \n",
       "4                           0.0  ...       quote           1   \n",
       "...                         ...  ...         ...         ...   \n",
       "705187                      0.0  ...       quote           0   \n",
       "705188                      0.0  ...       quote           0   \n",
       "705189                      0.0  ...       quote           0   \n",
       "705190                      0.0  ...       quote           0   \n",
       "705191                      1.0  ...       quote           1   \n",
       "\n",
       "        IS_OFFER_APPROVED  AUTOMATICALLY_APPROVED  MANUALLY_APPROVED  \\\n",
       "0                       1                       0                  1   \n",
       "1                       0                       0                  0   \n",
       "2                       0                       0                  0   \n",
       "3                       0                       0                  0   \n",
       "4                       0                       0                  0   \n",
       "...                   ...                     ...                ...   \n",
       "705187                  1                       0                  1   \n",
       "705188                  0                       0                  0   \n",
       "705189                  0                       0                  0   \n",
       "705190                  1                       0                  1   \n",
       "705191                  0                       0                  0   \n",
       "\n",
       "        WAS_EVER_UNCOVERED COVERING_OFFER LOAD_DELIVERED_FROM_OFFER  \\\n",
       "0                        0              1                         1   \n",
       "1                        0              0                         0   \n",
       "2                        0              0                         0   \n",
       "3                        0              0                         0   \n",
       "4                        0              0                         0   \n",
       "...                    ...            ...                       ...   \n",
       "705187                   0              1                         1   \n",
       "705188                   0              0                         0   \n",
       "705189                   0              0                         0   \n",
       "705190                   0              1                         1   \n",
       "705191                   0              0                         0   \n",
       "\n",
       "        RECOMMENDED_LOAD  VALID  \n",
       "0                      0      1  \n",
       "1                      0      1  \n",
       "2                      0      1  \n",
       "3                      0      1  \n",
       "4                      0      1  \n",
       "...                  ...    ...  \n",
       "705187                 0      1  \n",
       "705188                 0      0  \n",
       "705189                 0      0  \n",
       "705190                 0      1  \n",
       "705191                 1      1  \n",
       "\n",
       "[705076 rows x 36 columns]"
      ]
     },
     "execution_count": 30,
     "metadata": {},
     "output_type": "execute_result"
    }
   ],
   "source": [
    "oa"
   ]
  },
  {
   "cell_type": "code",
   "execution_count": null,
   "metadata": {},
   "outputs": [],
   "source": []
  },
  {
   "cell_type": "code",
   "execution_count": 29,
   "metadata": {
    "scrolled": true
   },
   "outputs": [
    {
     "data": {
      "text/plain": [
       "(705271, 30)"
      ]
     },
     "execution_count": 29,
     "metadata": {},
     "output_type": "execute_result"
    }
   ],
   "source": [
    "oa.shape"
   ]
  },
  {
   "cell_type": "code",
   "execution_count": 30,
   "metadata": {},
   "outputs": [
    {
     "data": {
      "text/html": [
       "<div>\n",
       "<style scoped>\n",
       "    .dataframe tbody tr th:only-of-type {\n",
       "        vertical-align: middle;\n",
       "    }\n",
       "\n",
       "    .dataframe tbody tr th {\n",
       "        vertical-align: top;\n",
       "    }\n",
       "\n",
       "    .dataframe thead th {\n",
       "        text-align: right;\n",
       "    }\n",
       "</style>\n",
       "<table border=\"1\" class=\"dataframe\">\n",
       "  <thead>\n",
       "    <tr style=\"text-align: right;\">\n",
       "      <th></th>\n",
       "      <th>REFERENCE_NUMBER</th>\n",
       "      <th>ORDER_DATETIME_PST</th>\n",
       "      <th>PICKUP_DEADLINE_PST</th>\n",
       "      <th>DELIVERY_TIME_CONSTRAINT</th>\n",
       "      <th>ORIGIN_3DIGIT_ZIP</th>\n",
       "      <th>DESTINATION_3DIGIT_ZIP</th>\n",
       "      <th>APPROXIMATE_DRIVING_ROUTE_MILEAGE</th>\n",
       "      <th>PALLETIZED_LINEAR_FEET</th>\n",
       "      <th>FD_ENABLED</th>\n",
       "      <th>EXCLUSIVE_USE_REQUESTED</th>\n",
       "      <th>...</th>\n",
       "      <th>OFFER_TYPE</th>\n",
       "      <th>SELF_SERVE</th>\n",
       "      <th>IS_OFFER_APPROVED</th>\n",
       "      <th>AUTOMATICALLY_APPROVED</th>\n",
       "      <th>MANUALLY_APPROVED</th>\n",
       "      <th>WAS_EVER_UNCOVERED</th>\n",
       "      <th>COVERING_OFFER</th>\n",
       "      <th>LOAD_DELIVERED_FROM_OFFER</th>\n",
       "      <th>RECOMMENDED_LOAD</th>\n",
       "      <th>VALID</th>\n",
       "    </tr>\n",
       "  </thead>\n",
       "  <tbody>\n",
       "    <tr>\n",
       "      <th>0</th>\n",
       "      <td>e97bdf5ad99011a878f18c10b0df1f663f6b8f4a5c8a4c...</td>\n",
       "      <td>2022-05-19 09:21:39</td>\n",
       "      <td>2022-05-24 13:00:00</td>\n",
       "      <td>NONE</td>\n",
       "      <td>670</td>\n",
       "      <td>630</td>\n",
       "      <td>414.0</td>\n",
       "      <td>45.0</td>\n",
       "      <td>1.0</td>\n",
       "      <td>1.0</td>\n",
       "      <td>...</td>\n",
       "      <td>quote</td>\n",
       "      <td>0</td>\n",
       "      <td>0</td>\n",
       "      <td>0</td>\n",
       "      <td>0</td>\n",
       "      <td>0</td>\n",
       "      <td>0</td>\n",
       "      <td>0</td>\n",
       "      <td>0</td>\n",
       "      <td>1</td>\n",
       "    </tr>\n",
       "    <tr>\n",
       "      <th>1</th>\n",
       "      <td>e97bdf5ad99011a878f18c10b0df1f663f6b8f4a5c8a4c...</td>\n",
       "      <td>2022-05-19 09:21:39</td>\n",
       "      <td>2022-05-24 13:00:00</td>\n",
       "      <td>NONE</td>\n",
       "      <td>670</td>\n",
       "      <td>630</td>\n",
       "      <td>414.0</td>\n",
       "      <td>45.0</td>\n",
       "      <td>1.0</td>\n",
       "      <td>1.0</td>\n",
       "      <td>...</td>\n",
       "      <td>quote</td>\n",
       "      <td>0</td>\n",
       "      <td>0</td>\n",
       "      <td>0</td>\n",
       "      <td>0</td>\n",
       "      <td>0</td>\n",
       "      <td>0</td>\n",
       "      <td>0</td>\n",
       "      <td>0</td>\n",
       "      <td>1</td>\n",
       "    </tr>\n",
       "    <tr>\n",
       "      <th>2</th>\n",
       "      <td>e97bdf5ad99011a878f18c10b0df1f663f6b8f4a5c8a4c...</td>\n",
       "      <td>2022-05-19 09:21:39</td>\n",
       "      <td>2022-05-24 13:00:00</td>\n",
       "      <td>NONE</td>\n",
       "      <td>670</td>\n",
       "      <td>630</td>\n",
       "      <td>414.0</td>\n",
       "      <td>45.0</td>\n",
       "      <td>1.0</td>\n",
       "      <td>1.0</td>\n",
       "      <td>...</td>\n",
       "      <td>quote</td>\n",
       "      <td>0</td>\n",
       "      <td>1</td>\n",
       "      <td>0</td>\n",
       "      <td>1</td>\n",
       "      <td>0</td>\n",
       "      <td>0</td>\n",
       "      <td>0</td>\n",
       "      <td>0</td>\n",
       "      <td>0</td>\n",
       "    </tr>\n",
       "    <tr>\n",
       "      <th>3</th>\n",
       "      <td>e97bdf5ad99011a878f18c10b0df1f663f6b8f4a5c8a4c...</td>\n",
       "      <td>2022-05-19 09:21:39</td>\n",
       "      <td>2022-05-24 13:00:00</td>\n",
       "      <td>NONE</td>\n",
       "      <td>670</td>\n",
       "      <td>630</td>\n",
       "      <td>414.0</td>\n",
       "      <td>45.0</td>\n",
       "      <td>1.0</td>\n",
       "      <td>1.0</td>\n",
       "      <td>...</td>\n",
       "      <td>quote</td>\n",
       "      <td>0</td>\n",
       "      <td>0</td>\n",
       "      <td>0</td>\n",
       "      <td>0</td>\n",
       "      <td>0</td>\n",
       "      <td>0</td>\n",
       "      <td>0</td>\n",
       "      <td>0</td>\n",
       "      <td>1</td>\n",
       "    </tr>\n",
       "    <tr>\n",
       "      <th>4</th>\n",
       "      <td>e97bdf5ad99011a878f18c10b0df1f663f6b8f4a5c8a4c...</td>\n",
       "      <td>2022-05-19 09:21:39</td>\n",
       "      <td>2022-05-24 13:00:00</td>\n",
       "      <td>NONE</td>\n",
       "      <td>670</td>\n",
       "      <td>630</td>\n",
       "      <td>414.0</td>\n",
       "      <td>45.0</td>\n",
       "      <td>1.0</td>\n",
       "      <td>1.0</td>\n",
       "      <td>...</td>\n",
       "      <td>quote</td>\n",
       "      <td>0</td>\n",
       "      <td>1</td>\n",
       "      <td>0</td>\n",
       "      <td>1</td>\n",
       "      <td>0</td>\n",
       "      <td>1</td>\n",
       "      <td>1</td>\n",
       "      <td>0</td>\n",
       "      <td>1</td>\n",
       "    </tr>\n",
       "  </tbody>\n",
       "</table>\n",
       "<p>5 rows × 30 columns</p>\n",
       "</div>"
      ],
      "text/plain": [
       "                                    REFERENCE_NUMBER   ORDER_DATETIME_PST  \\\n",
       "0  e97bdf5ad99011a878f18c10b0df1f663f6b8f4a5c8a4c...  2022-05-19 09:21:39   \n",
       "1  e97bdf5ad99011a878f18c10b0df1f663f6b8f4a5c8a4c...  2022-05-19 09:21:39   \n",
       "2  e97bdf5ad99011a878f18c10b0df1f663f6b8f4a5c8a4c...  2022-05-19 09:21:39   \n",
       "3  e97bdf5ad99011a878f18c10b0df1f663f6b8f4a5c8a4c...  2022-05-19 09:21:39   \n",
       "4  e97bdf5ad99011a878f18c10b0df1f663f6b8f4a5c8a4c...  2022-05-19 09:21:39   \n",
       "\n",
       "   PICKUP_DEADLINE_PST DELIVERY_TIME_CONSTRAINT ORIGIN_3DIGIT_ZIP  \\\n",
       "0  2022-05-24 13:00:00                     NONE               670   \n",
       "1  2022-05-24 13:00:00                     NONE               670   \n",
       "2  2022-05-24 13:00:00                     NONE               670   \n",
       "3  2022-05-24 13:00:00                     NONE               670   \n",
       "4  2022-05-24 13:00:00                     NONE               670   \n",
       "\n",
       "  DESTINATION_3DIGIT_ZIP  APPROXIMATE_DRIVING_ROUTE_MILEAGE  \\\n",
       "0                    630                              414.0   \n",
       "1                    630                              414.0   \n",
       "2                    630                              414.0   \n",
       "3                    630                              414.0   \n",
       "4                    630                              414.0   \n",
       "\n",
       "   PALLETIZED_LINEAR_FEET  FD_ENABLED  EXCLUSIVE_USE_REQUESTED  ...  \\\n",
       "0                    45.0         1.0                      1.0  ...   \n",
       "1                    45.0         1.0                      1.0  ...   \n",
       "2                    45.0         1.0                      1.0  ...   \n",
       "3                    45.0         1.0                      1.0  ...   \n",
       "4                    45.0         1.0                      1.0  ...   \n",
       "\n",
       "   OFFER_TYPE  SELF_SERVE  IS_OFFER_APPROVED  AUTOMATICALLY_APPROVED  \\\n",
       "0       quote           0                  0                       0   \n",
       "1       quote           0                  0                       0   \n",
       "2       quote           0                  1                       0   \n",
       "3       quote           0                  0                       0   \n",
       "4       quote           0                  1                       0   \n",
       "\n",
       "   MANUALLY_APPROVED  WAS_EVER_UNCOVERED COVERING_OFFER  \\\n",
       "0                  0                   0              0   \n",
       "1                  0                   0              0   \n",
       "2                  1                   0              0   \n",
       "3                  0                   0              0   \n",
       "4                  1                   0              1   \n",
       "\n",
       "  LOAD_DELIVERED_FROM_OFFER RECOMMENDED_LOAD  VALID  \n",
       "0                         0                0      1  \n",
       "1                         0                0      1  \n",
       "2                         0                0      0  \n",
       "3                         0                0      1  \n",
       "4                         1                0      1  \n",
       "\n",
       "[5 rows x 30 columns]"
      ]
     },
     "execution_count": 30,
     "metadata": {},
     "output_type": "execute_result"
    }
   ],
   "source": [
    "oa.head(5)"
   ]
  },
  {
   "cell_type": "markdown",
   "metadata": {},
   "source": [
    "### OA Join EDA"
   ]
  },
  {
   "cell_type": "code",
   "execution_count": 31,
   "metadata": {
    "scrolled": false
   },
   "outputs": [
    {
     "data": {
      "text/plain": [
       "REFERENCE_NUMBER                     0.000000\n",
       "ORDER_DATETIME_PST                   0.000000\n",
       "PICKUP_DEADLINE_PST                  0.000000\n",
       "DELIVERY_TIME_CONSTRAINT             0.000003\n",
       "ORIGIN_3DIGIT_ZIP                    0.000003\n",
       "DESTINATION_3DIGIT_ZIP               0.000003\n",
       "APPROXIMATE_DRIVING_ROUTE_MILEAGE    0.003299\n",
       "PALLETIZED_LINEAR_FEET               0.000003\n",
       "FD_ENABLED                           0.000169\n",
       "EXCLUSIVE_USE_REQUESTED              0.000003\n",
       "HAZARDOUS                            0.000003\n",
       "REEFER_ALLOWED                       0.000003\n",
       "STRAIGHT_TRUCK_ALLOWED               0.000003\n",
       "LOAD_BAR_COUNT                       0.000003\n",
       "LOAD_TO_RIDE_REQUESTED               0.000003\n",
       "ESTIMATED_COST_AT_ORDER              0.000000\n",
       "TRANSPORT_MODE                       0.000011\n",
       "CARRIER_ID                           0.000000\n",
       "CREATED_ON_HQ                        0.000000\n",
       "RATE_USD                             0.000000\n",
       "OFFER_TYPE                           0.000000\n",
       "SELF_SERVE                           0.000000\n",
       "IS_OFFER_APPROVED                    0.000000\n",
       "AUTOMATICALLY_APPROVED               0.000000\n",
       "MANUALLY_APPROVED                    0.000000\n",
       "WAS_EVER_UNCOVERED                   0.000000\n",
       "COVERING_OFFER                       0.000000\n",
       "LOAD_DELIVERED_FROM_OFFER            0.000000\n",
       "RECOMMENDED_LOAD                     0.000000\n",
       "VALID                                0.000000\n",
       "dtype: float64"
      ]
     },
     "execution_count": 31,
     "metadata": {},
     "output_type": "execute_result"
    }
   ],
   "source": [
    "oa.isnull().mean(axis=0)"
   ]
  },
  {
   "cell_type": "code",
   "execution_count": 32,
   "metadata": {},
   "outputs": [
    {
     "data": {
      "text/plain": [
       "FD_ENABLED                   0.999806\n",
       "EXCLUSIVE_USE_REQUESTED      0.187039\n",
       "HAZARDOUS                    0.000054\n",
       "REEFER_ALLOWED               0.650258\n",
       "STRAIGHT_TRUCK_ALLOWED       0.647146\n",
       "LOAD_TO_RIDE_REQUESTED       0.318361\n",
       "SELF_SERVE                   0.357498\n",
       "IS_OFFER_APPROVED            0.270434\n",
       "AUTOMATICALLY_APPROVED       0.086028\n",
       "MANUALLY_APPROVED            0.185825\n",
       "WAS_EVER_UNCOVERED           0.056883\n",
       "COVERING_OFFER               0.211176\n",
       "LOAD_DELIVERED_FROM_OFFER    0.206365\n",
       "RECOMMENDED_LOAD             0.226007\n",
       "VALID                        0.953415\n",
       "dtype: float64"
      ]
     },
     "execution_count": 32,
     "metadata": {},
     "output_type": "execute_result"
    }
   ],
   "source": [
    "bool_column_names = []\n",
    "bool_column_names += ['FD_ENABLED', 'EXCLUSIVE_USE_REQUESTED','HAZARDOUS', \n",
    "                     'REEFER_ALLOWED', 'STRAIGHT_TRUCK_ALLOWED','LOAD_TO_RIDE_REQUESTED']\n",
    "bool_column_names += ['SELF_SERVE', 'IS_OFFER_APPROVED',\n",
    "       'AUTOMATICALLY_APPROVED', 'MANUALLY_APPROVED', 'WAS_EVER_UNCOVERED',\n",
    "       'COVERING_OFFER', 'LOAD_DELIVERED_FROM_OFFER', 'RECOMMENDED_LOAD', 'VALID']\n",
    "\n",
    "oa[bool_column_names].mean(axis=0)"
   ]
  },
  {
   "cell_type": "code",
   "execution_count": 23,
   "metadata": {
    "scrolled": true
   },
   "outputs": [
    {
     "data": {
      "image/png": "[encoded data removed]",
      "text/plain": [
       "<Figure size 432x288 with 1 Axes>"
      ]
     },
     "metadata": {
      "needs_background": "light"
     },
     "output_type": "display_data"
    }
   ],
   "source": []
  },
  {
   "cell_type": "code",
   "execution_count": 24,
   "metadata": {},
   "outputs": [
    {
     "data": {
      "image/png": "[encoded data removed]",
      "text/plain": [
       "<Figure size 432x288 with 1 Axes>"
      ]
     },
     "metadata": {
      "needs_background": "light"
     },
     "output_type": "display_data"
    }
   ],
   "source": []
  },
  {
   "cell_type": "code",
   "execution_count": 25,
   "metadata": {},
   "outputs": [
    {
     "data": {
      "image/png": "[encoded data removed]",
      "text/plain": [
       "<Figure size 432x288 with 1 Axes>"
      ]
     },
     "metadata": {
      "needs_background": "light"
     },
     "output_type": "display_data"
    }
   ],
   "source": []
  },
  {
   "cell_type": "code",
   "execution_count": 26,
   "metadata": {},
   "outputs": [
    {
     "data": {
      "image/png": "[encoded data removed]",
      "text/plain": [
       "<Figure size 432x288 with 1 Axes>"
      ]
     },
     "metadata": {
      "needs_background": "light"
     },
     "output_type": "display_data"
    }
   ],
   "source": []
  },
  {
   "cell_type": "code",
   "execution_count": 27,
   "metadata": {},
   "outputs": [
    {
     "data": {
      "text/plain": [
       "SCHEDULE                  442873\n",
       "NONE                      217120\n",
       "APPOINTMENT                14041\n",
       "DEADLINE_WITH_SCHEDULE     12793\n",
       "WINDOW                      8140\n",
       "NOTIFY                      6940\n",
       "DEADLINE                    3362\n",
       "Name: DELIVERY_TIME_CONSTRAINT, dtype: int64"
      ]
     },
     "execution_count": 27,
     "metadata": {},
     "output_type": "execute_result"
    }
   ],
   "source": []
  },
  {
   "cell_type": "code",
   "execution_count": 28,
   "metadata": {},
   "outputs": [
    {
     "data": {
      "text/plain": [
       "quote    594522\n",
       "pool     110749\n",
       "Name: OFFER_TYPE, dtype: int64"
      ]
     },
     "execution_count": 28,
     "metadata": {},
     "output_type": "execute_result"
    }
   ],
   "source": []
  },
  {
   "cell_type": "code",
   "execution_count": 29,
   "metadata": {},
   "outputs": [
    {
     "data": {
      "text/plain": [
       "PTL             422636\n",
       "FTL             269300\n",
       "LTL               8091\n",
       "VLTL              3338\n",
       "CONSOLIDATOR      1898\n",
       "Name: TRANSPORT_MODE, dtype: int64"
      ]
     },
     "execution_count": 29,
     "metadata": {},
     "output_type": "execute_result"
    }
   ],
   "source": [
    "oa[\"TRANSPORT_MODE\"].value_counts()"
   ]
  },
  {
   "cell_type": "code",
   "execution_count": 30,
   "metadata": {},
   "outputs": [
    {
     "data": {
      "text/html": [
       "<div>\n",
       "<style scoped>\n",
       "    .dataframe tbody tr th:only-of-type {\n",
       "        vertical-align: middle;\n",
       "    }\n",
       "\n",
       "    .dataframe tbody tr th {\n",
       "        vertical-align: top;\n",
       "    }\n",
       "\n",
       "    .dataframe thead th {\n",
       "        text-align: right;\n",
       "    }\n",
       "</style>\n",
       "<table border=\"1\" class=\"dataframe\">\n",
       "  <thead>\n",
       "    <tr style=\"text-align: right;\">\n",
       "      <th></th>\n",
       "      <th>REFERENCE_NUMBER</th>\n",
       "      <th>ORDER_DATETIME_PST</th>\n",
       "      <th>PICKUP_DEADLINE_PST</th>\n",
       "      <th>DELIVERY_TIME_CONSTRAINT</th>\n",
       "      <th>ORIGIN_3DIGIT_ZIP</th>\n",
       "      <th>DESTINATION_3DIGIT_ZIP</th>\n",
       "      <th>APPROXIMATE_DRIVING_ROUTE_MILEAGE</th>\n",
       "      <th>PALLETIZED_LINEAR_FEET</th>\n",
       "      <th>FD_ENABLED</th>\n",
       "      <th>EXCLUSIVE_USE_REQUESTED</th>\n",
       "      <th>...</th>\n",
       "      <th>OFFER_TYPE</th>\n",
       "      <th>SELF_SERVE</th>\n",
       "      <th>IS_OFFER_APPROVED</th>\n",
       "      <th>AUTOMATICALLY_APPROVED</th>\n",
       "      <th>MANUALLY_APPROVED</th>\n",
       "      <th>WAS_EVER_UNCOVERED</th>\n",
       "      <th>COVERING_OFFER</th>\n",
       "      <th>LOAD_DELIVERED_FROM_OFFER</th>\n",
       "      <th>RECOMMENDED_LOAD</th>\n",
       "      <th>VALID</th>\n",
       "    </tr>\n",
       "  </thead>\n",
       "  <tbody>\n",
       "    <tr>\n",
       "      <th>0</th>\n",
       "      <td>e97bdf5ad99011a878f18c10b0df1f663f6b8f4a5c8a4c...</td>\n",
       "      <td>2022-05-19 09:21:39</td>\n",
       "      <td>2022-05-24 13:00:00</td>\n",
       "      <td>NONE</td>\n",
       "      <td>670</td>\n",
       "      <td>630</td>\n",
       "      <td>414.0</td>\n",
       "      <td>45.0</td>\n",
       "      <td>1.0</td>\n",
       "      <td>1.0</td>\n",
       "      <td>...</td>\n",
       "      <td>quote</td>\n",
       "      <td>0</td>\n",
       "      <td>0</td>\n",
       "      <td>0</td>\n",
       "      <td>0</td>\n",
       "      <td>0</td>\n",
       "      <td>0</td>\n",
       "      <td>0</td>\n",
       "      <td>0</td>\n",
       "      <td>1</td>\n",
       "    </tr>\n",
       "    <tr>\n",
       "      <th>1</th>\n",
       "      <td>e97bdf5ad99011a878f18c10b0df1f663f6b8f4a5c8a4c...</td>\n",
       "      <td>2022-05-19 09:21:39</td>\n",
       "      <td>2022-05-24 13:00:00</td>\n",
       "      <td>NONE</td>\n",
       "      <td>670</td>\n",
       "      <td>630</td>\n",
       "      <td>414.0</td>\n",
       "      <td>45.0</td>\n",
       "      <td>1.0</td>\n",
       "      <td>1.0</td>\n",
       "      <td>...</td>\n",
       "      <td>quote</td>\n",
       "      <td>0</td>\n",
       "      <td>0</td>\n",
       "      <td>0</td>\n",
       "      <td>0</td>\n",
       "      <td>0</td>\n",
       "      <td>0</td>\n",
       "      <td>0</td>\n",
       "      <td>0</td>\n",
       "      <td>1</td>\n",
       "    </tr>\n",
       "    <tr>\n",
       "      <th>2</th>\n",
       "      <td>e97bdf5ad99011a878f18c10b0df1f663f6b8f4a5c8a4c...</td>\n",
       "      <td>2022-05-19 09:21:39</td>\n",
       "      <td>2022-05-24 13:00:00</td>\n",
       "      <td>NONE</td>\n",
       "      <td>670</td>\n",
       "      <td>630</td>\n",
       "      <td>414.0</td>\n",
       "      <td>45.0</td>\n",
       "      <td>1.0</td>\n",
       "      <td>1.0</td>\n",
       "      <td>...</td>\n",
       "      <td>quote</td>\n",
       "      <td>0</td>\n",
       "      <td>1</td>\n",
       "      <td>0</td>\n",
       "      <td>1</td>\n",
       "      <td>0</td>\n",
       "      <td>0</td>\n",
       "      <td>0</td>\n",
       "      <td>0</td>\n",
       "      <td>0</td>\n",
       "    </tr>\n",
       "    <tr>\n",
       "      <th>3</th>\n",
       "      <td>e97bdf5ad99011a878f18c10b0df1f663f6b8f4a5c8a4c...</td>\n",
       "      <td>2022-05-19 09:21:39</td>\n",
       "      <td>2022-05-24 13:00:00</td>\n",
       "      <td>NONE</td>\n",
       "      <td>670</td>\n",
       "      <td>630</td>\n",
       "      <td>414.0</td>\n",
       "      <td>45.0</td>\n",
       "      <td>1.0</td>\n",
       "      <td>1.0</td>\n",
       "      <td>...</td>\n",
       "      <td>quote</td>\n",
       "      <td>0</td>\n",
       "      <td>0</td>\n",
       "      <td>0</td>\n",
       "      <td>0</td>\n",
       "      <td>0</td>\n",
       "      <td>0</td>\n",
       "      <td>0</td>\n",
       "      <td>0</td>\n",
       "      <td>1</td>\n",
       "    </tr>\n",
       "    <tr>\n",
       "      <th>4</th>\n",
       "      <td>e97bdf5ad99011a878f18c10b0df1f663f6b8f4a5c8a4c...</td>\n",
       "      <td>2022-05-19 09:21:39</td>\n",
       "      <td>2022-05-24 13:00:00</td>\n",
       "      <td>NONE</td>\n",
       "      <td>670</td>\n",
       "      <td>630</td>\n",
       "      <td>414.0</td>\n",
       "      <td>45.0</td>\n",
       "      <td>1.0</td>\n",
       "      <td>1.0</td>\n",
       "      <td>...</td>\n",
       "      <td>quote</td>\n",
       "      <td>0</td>\n",
       "      <td>1</td>\n",
       "      <td>0</td>\n",
       "      <td>1</td>\n",
       "      <td>0</td>\n",
       "      <td>1</td>\n",
       "      <td>1</td>\n",
       "      <td>0</td>\n",
       "      <td>1</td>\n",
       "    </tr>\n",
       "    <tr>\n",
       "      <th>...</th>\n",
       "      <td>...</td>\n",
       "      <td>...</td>\n",
       "      <td>...</td>\n",
       "      <td>...</td>\n",
       "      <td>...</td>\n",
       "      <td>...</td>\n",
       "      <td>...</td>\n",
       "      <td>...</td>\n",
       "      <td>...</td>\n",
       "      <td>...</td>\n",
       "      <td>...</td>\n",
       "      <td>...</td>\n",
       "      <td>...</td>\n",
       "      <td>...</td>\n",
       "      <td>...</td>\n",
       "      <td>...</td>\n",
       "      <td>...</td>\n",
       "      <td>...</td>\n",
       "      <td>...</td>\n",
       "      <td>...</td>\n",
       "      <td>...</td>\n",
       "    </tr>\n",
       "    <tr>\n",
       "      <th>705382</th>\n",
       "      <td>1334124efed8c6b3450105d711b2285722b5537ad6e1fe...</td>\n",
       "      <td>2022-09-30 10:46:37</td>\n",
       "      <td>2022-10-17 07:00:00</td>\n",
       "      <td>SCHEDULE</td>\n",
       "      <td>770</td>\n",
       "      <td>754</td>\n",
       "      <td>313.0</td>\n",
       "      <td>52.0</td>\n",
       "      <td>1.0</td>\n",
       "      <td>0.0</td>\n",
       "      <td>...</td>\n",
       "      <td>quote</td>\n",
       "      <td>1</td>\n",
       "      <td>1</td>\n",
       "      <td>1</td>\n",
       "      <td>0</td>\n",
       "      <td>1</td>\n",
       "      <td>0</td>\n",
       "      <td>0</td>\n",
       "      <td>0</td>\n",
       "      <td>1</td>\n",
       "    </tr>\n",
       "    <tr>\n",
       "      <th>705383</th>\n",
       "      <td>1334124efed8c6b3450105d711b2285722b5537ad6e1fe...</td>\n",
       "      <td>2022-09-30 10:46:37</td>\n",
       "      <td>2022-10-17 07:00:00</td>\n",
       "      <td>SCHEDULE</td>\n",
       "      <td>770</td>\n",
       "      <td>754</td>\n",
       "      <td>313.0</td>\n",
       "      <td>52.0</td>\n",
       "      <td>1.0</td>\n",
       "      <td>0.0</td>\n",
       "      <td>...</td>\n",
       "      <td>quote</td>\n",
       "      <td>1</td>\n",
       "      <td>0</td>\n",
       "      <td>0</td>\n",
       "      <td>0</td>\n",
       "      <td>0</td>\n",
       "      <td>0</td>\n",
       "      <td>0</td>\n",
       "      <td>1</td>\n",
       "      <td>1</td>\n",
       "    </tr>\n",
       "    <tr>\n",
       "      <th>705384</th>\n",
       "      <td>1334124efed8c6b3450105d711b2285722b5537ad6e1fe...</td>\n",
       "      <td>2022-09-30 10:46:37</td>\n",
       "      <td>2022-10-17 07:00:00</td>\n",
       "      <td>SCHEDULE</td>\n",
       "      <td>770</td>\n",
       "      <td>754</td>\n",
       "      <td>313.0</td>\n",
       "      <td>52.0</td>\n",
       "      <td>1.0</td>\n",
       "      <td>0.0</td>\n",
       "      <td>...</td>\n",
       "      <td>quote</td>\n",
       "      <td>0</td>\n",
       "      <td>1</td>\n",
       "      <td>1</td>\n",
       "      <td>0</td>\n",
       "      <td>0</td>\n",
       "      <td>0</td>\n",
       "      <td>0</td>\n",
       "      <td>0</td>\n",
       "      <td>1</td>\n",
       "    </tr>\n",
       "    <tr>\n",
       "      <th>705385</th>\n",
       "      <td>1334124efed8c6b3450105d711b2285722b5537ad6e1fe...</td>\n",
       "      <td>2022-09-30 10:46:37</td>\n",
       "      <td>2022-10-17 07:00:00</td>\n",
       "      <td>SCHEDULE</td>\n",
       "      <td>770</td>\n",
       "      <td>754</td>\n",
       "      <td>313.0</td>\n",
       "      <td>52.0</td>\n",
       "      <td>1.0</td>\n",
       "      <td>0.0</td>\n",
       "      <td>...</td>\n",
       "      <td>quote</td>\n",
       "      <td>0</td>\n",
       "      <td>1</td>\n",
       "      <td>1</td>\n",
       "      <td>0</td>\n",
       "      <td>0</td>\n",
       "      <td>0</td>\n",
       "      <td>0</td>\n",
       "      <td>0</td>\n",
       "      <td>1</td>\n",
       "    </tr>\n",
       "    <tr>\n",
       "      <th>705386</th>\n",
       "      <td>1334124efed8c6b3450105d711b2285722b5537ad6e1fe...</td>\n",
       "      <td>2022-09-30 10:46:37</td>\n",
       "      <td>2022-10-17 07:00:00</td>\n",
       "      <td>SCHEDULE</td>\n",
       "      <td>770</td>\n",
       "      <td>754</td>\n",
       "      <td>313.0</td>\n",
       "      <td>52.0</td>\n",
       "      <td>1.0</td>\n",
       "      <td>0.0</td>\n",
       "      <td>...</td>\n",
       "      <td>quote</td>\n",
       "      <td>0</td>\n",
       "      <td>1</td>\n",
       "      <td>1</td>\n",
       "      <td>0</td>\n",
       "      <td>0</td>\n",
       "      <td>0</td>\n",
       "      <td>0</td>\n",
       "      <td>0</td>\n",
       "      <td>0</td>\n",
       "    </tr>\n",
       "  </tbody>\n",
       "</table>\n",
       "<p>705271 rows × 30 columns</p>\n",
       "</div>"
      ],
      "text/plain": [
       "                                         REFERENCE_NUMBER  \\\n",
       "0       e97bdf5ad99011a878f18c10b0df1f663f6b8f4a5c8a4c...   \n",
       "1       e97bdf5ad99011a878f18c10b0df1f663f6b8f4a5c8a4c...   \n",
       "2       e97bdf5ad99011a878f18c10b0df1f663f6b8f4a5c8a4c...   \n",
       "3       e97bdf5ad99011a878f18c10b0df1f663f6b8f4a5c8a4c...   \n",
       "4       e97bdf5ad99011a878f18c10b0df1f663f6b8f4a5c8a4c...   \n",
       "...                                                   ...   \n",
       "705382  1334124efed8c6b3450105d711b2285722b5537ad6e1fe...   \n",
       "705383  1334124efed8c6b3450105d711b2285722b5537ad6e1fe...   \n",
       "705384  1334124efed8c6b3450105d711b2285722b5537ad6e1fe...   \n",
       "705385  1334124efed8c6b3450105d711b2285722b5537ad6e1fe...   \n",
       "705386  1334124efed8c6b3450105d711b2285722b5537ad6e1fe...   \n",
       "\n",
       "         ORDER_DATETIME_PST  PICKUP_DEADLINE_PST DELIVERY_TIME_CONSTRAINT  \\\n",
       "0       2022-05-19 09:21:39  2022-05-24 13:00:00                     NONE   \n",
       "1       2022-05-19 09:21:39  2022-05-24 13:00:00                     NONE   \n",
       "2       2022-05-19 09:21:39  2022-05-24 13:00:00                     NONE   \n",
       "3       2022-05-19 09:21:39  2022-05-24 13:00:00                     NONE   \n",
       "4       2022-05-19 09:21:39  2022-05-24 13:00:00                     NONE   \n",
       "...                     ...                  ...                      ...   \n",
       "705382  2022-09-30 10:46:37  2022-10-17 07:00:00                 SCHEDULE   \n",
       "705383  2022-09-30 10:46:37  2022-10-17 07:00:00                 SCHEDULE   \n",
       "705384  2022-09-30 10:46:37  2022-10-17 07:00:00                 SCHEDULE   \n",
       "705385  2022-09-30 10:46:37  2022-10-17 07:00:00                 SCHEDULE   \n",
       "705386  2022-09-30 10:46:37  2022-10-17 07:00:00                 SCHEDULE   \n",
       "\n",
       "       ORIGIN_3DIGIT_ZIP DESTINATION_3DIGIT_ZIP  \\\n",
       "0                    670                    630   \n",
       "1                    670                    630   \n",
       "2                    670                    630   \n",
       "3                    670                    630   \n",
       "4                    670                    630   \n",
       "...                  ...                    ...   \n",
       "705382               770                    754   \n",
       "705383               770                    754   \n",
       "705384               770                    754   \n",
       "705385               770                    754   \n",
       "705386               770                    754   \n",
       "\n",
       "        APPROXIMATE_DRIVING_ROUTE_MILEAGE  PALLETIZED_LINEAR_FEET  FD_ENABLED  \\\n",
       "0                                   414.0                    45.0         1.0   \n",
       "1                                   414.0                    45.0         1.0   \n",
       "2                                   414.0                    45.0         1.0   \n",
       "3                                   414.0                    45.0         1.0   \n",
       "4                                   414.0                    45.0         1.0   \n",
       "...                                   ...                     ...         ...   \n",
       "705382                              313.0                    52.0         1.0   \n",
       "705383                              313.0                    52.0         1.0   \n",
       "705384                              313.0                    52.0         1.0   \n",
       "705385                              313.0                    52.0         1.0   \n",
       "705386                              313.0                    52.0         1.0   \n",
       "\n",
       "        EXCLUSIVE_USE_REQUESTED  ...  OFFER_TYPE  SELF_SERVE  \\\n",
       "0                           1.0  ...       quote           0   \n",
       "1                           1.0  ...       quote           0   \n",
       "2                           1.0  ...       quote           0   \n",
       "3                           1.0  ...       quote           0   \n",
       "4                           1.0  ...       quote           0   \n",
       "...                         ...  ...         ...         ...   \n",
       "705382                      0.0  ...       quote           1   \n",
       "705383                      0.0  ...       quote           1   \n",
       "705384                      0.0  ...       quote           0   \n",
       "705385                      0.0  ...       quote           0   \n",
       "705386                      0.0  ...       quote           0   \n",
       "\n",
       "        IS_OFFER_APPROVED  AUTOMATICALLY_APPROVED  MANUALLY_APPROVED  \\\n",
       "0                       0                       0                  0   \n",
       "1                       0                       0                  0   \n",
       "2                       1                       0                  1   \n",
       "3                       0                       0                  0   \n",
       "4                       1                       0                  1   \n",
       "...                   ...                     ...                ...   \n",
       "705382                  1                       1                  0   \n",
       "705383                  0                       0                  0   \n",
       "705384                  1                       1                  0   \n",
       "705385                  1                       1                  0   \n",
       "705386                  1                       1                  0   \n",
       "\n",
       "        WAS_EVER_UNCOVERED COVERING_OFFER LOAD_DELIVERED_FROM_OFFER  \\\n",
       "0                        0              0                         0   \n",
       "1                        0              0                         0   \n",
       "2                        0              0                         0   \n",
       "3                        0              0                         0   \n",
       "4                        0              1                         1   \n",
       "...                    ...            ...                       ...   \n",
       "705382                   1              0                         0   \n",
       "705383                   0              0                         0   \n",
       "705384                   0              0                         0   \n",
       "705385                   0              0                         0   \n",
       "705386                   0              0                         0   \n",
       "\n",
       "       RECOMMENDED_LOAD  VALID  \n",
       "0                     0      1  \n",
       "1                     0      1  \n",
       "2                     0      0  \n",
       "3                     0      1  \n",
       "4                     0      1  \n",
       "...                 ...    ...  \n",
       "705382                0      1  \n",
       "705383                1      1  \n",
       "705384                0      1  \n",
       "705385                0      1  \n",
       "705386                0      0  \n",
       "\n",
       "[705271 rows x 30 columns]"
      ]
     },
     "execution_count": 30,
     "metadata": {},
     "output_type": "execute_result"
    }
   ],
   "source": [
    "oa"
   ]
  },
  {
   "cell_type": "code",
   "execution_count": 29,
   "metadata": {},
   "outputs": [
    {
     "ename": "NameError",
     "evalue": "name 'oa' is not defined",
     "output_type": "error",
     "traceback": [
      "\u001b[1;31m---------------------------------------------------------------------------\u001b[0m",
      "\u001b[1;31mNameError\u001b[0m                                 Traceback (most recent call last)",
      "\u001b[1;32m<ipython-input-29-e50c26b77b50>\u001b[0m in \u001b[0;36m<module>\u001b[1;34m\u001b[0m\n\u001b[1;32m----> 1\u001b[1;33m \u001b[0moa\u001b[0m\u001b[1;33m[\u001b[0m\u001b[1;34m\"ORDER_DATETIME_PST\"\u001b[0m\u001b[1;33m]\u001b[0m\u001b[1;33m\u001b[0m\u001b[1;33m\u001b[0m\u001b[0m\n\u001b[0m",
      "\u001b[1;31mNameError\u001b[0m: name 'oa' is not defined"
     ]
    }
   ],
   "source": [
    "oa[\"ORDER_DATETIME_PST\"]"
   ]
  },
  {
   "cell_type": "code",
   "execution_count": 28,
   "metadata": {},
   "outputs": [
    {
     "ename": "NameError",
     "evalue": "name 'oa' is not defined",
     "output_type": "error",
     "traceback": [
      "\u001b[1;31m---------------------------------------------------------------------------\u001b[0m",
      "\u001b[1;31mNameError\u001b[0m                                 Traceback (most recent call last)",
      "\u001b[1;32m<ipython-input-28-c9fc13ad2b78>\u001b[0m in \u001b[0;36m<module>\u001b[1;34m\u001b[0m\n\u001b[0;32m      4\u001b[0m \u001b[1;33m\u001b[0m\u001b[0m\n\u001b[0;32m      5\u001b[0m \u001b[1;32mif\u001b[0m \u001b[0mdata_clean_first_time\u001b[0m\u001b[1;33m:\u001b[0m\u001b[1;33m\u001b[0m\u001b[1;33m\u001b[0m\u001b[0m\n\u001b[1;32m----> 6\u001b[1;33m     \u001b[0moa\u001b[0m\u001b[1;33m.\u001b[0m\u001b[0mto_csv\u001b[0m\u001b[1;33m(\u001b[0m\u001b[0mPATH_FILE_oa\u001b[0m\u001b[1;33m,\u001b[0m\u001b[0mindex\u001b[0m\u001b[1;33m=\u001b[0m\u001b[1;32mFalse\u001b[0m\u001b[1;33m)\u001b[0m\u001b[1;33m\u001b[0m\u001b[1;33m\u001b[0m\u001b[0m\n\u001b[0m\u001b[0;32m      7\u001b[0m \u001b[1;33m\u001b[0m\u001b[0m\n\u001b[0;32m      8\u001b[0m     \u001b[1;31m#oa_orders[\"REFERENCE_NUMBER\"] = oa_orders[\"REFERENCE_NUMBER\"].str.split('''\"''').apply(lambda x: x[1])\u001b[0m\u001b[1;33m\u001b[0m\u001b[1;33m\u001b[0m\u001b[1;33m\u001b[0m\u001b[0m\n",
      "\u001b[1;31mNameError\u001b[0m: name 'oa' is not defined"
     ]
    }
   ],
   "source": [
    "data_clean_first_time = 1\n",
    "\n",
    "PATH_FILE_oa = PATH_FOLDER + \"\\\\oa.csv\"\n",
    "\n",
    "if data_clean_first_time:\n",
    "    oa.to_csv(PATH_FILE_oa,index=False)\n",
    "    \n",
    "    #oa_orders[\"REFERENCE_NUMBER\"] = oa_orders[\"REFERENCE_NUMBER\"].str.split('''\"''').apply(lambda x: x[1])\n",
    "\n",
    "    #oa_orders.loc[:,bool_column_names] = (oa_orders.loc[:,bool_column_names]).astype(float)\n",
    "\n",
    "    #oa_orders.to_csv(PATH_FILE_OA_ORDERS,index=False)"
   ]
  },
  {
   "cell_type": "code",
   "execution_count": null,
   "metadata": {},
   "outputs": [],
   "source": []
  }
 ],
 "metadata": {
  "kernelspec": {
   "display_name": "Python 3",
   "language": "python",
   "name": "python3"
  },
  "language_info": {
   "codemirror_mode": {
    "name": "ipython",
    "version": 3
   },
   "file_extension": ".py",
   "mimetype": "text/x-python",
   "name": "python",
   "nbconvert_exporter": "python",
   "pygments_lexer": "ipython3",
   "version": "3.7.4"
  }
 },
 "nbformat": 4,
 "nbformat_minor": 2
}
