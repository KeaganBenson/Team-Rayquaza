{
 "cells": [
  {
   "cell_type": "code",
   "execution_count": 1,
   "metadata": {},
   "outputs": [],
   "source": [
    "import numpy as np\n",
    "import matplotlib\n",
    "import matplotlib.pyplot as plt\n",
    "from matplotlib.patches import Rectangle\n",
    "from sklearn.ensemble import RandomForestRegressor\n",
    "from sklearn.manifold import TSNE\n",
    "\n",
    "plt.rcParams.update({'font.size': 14, 'pdf.fonttype': 'truetype'})\n",
    "plt.rcParams.update({'font.family':'Candara', 'font.serif':['Candara']})"
   ]
  },
  {
   "cell_type": "code",
   "execution_count": 2,
   "metadata": {},
   "outputs": [
    {
     "name": "stderr",
     "output_type": "stream",
     "text": [
      "findfont: Font family ['Candara'] not found. Falling back to DejaVu Sans.\n"
     ]
    },
    {
     "data": {
      "image/png": "[encoded data removed]",
      "text/plain": [
       "<Figure size 720x1440 with 2 Axes>"
      ]
     },
     "metadata": {
      "needs_background": "light"
     },
     "output_type": "display_data"
    },
    {
     "data": {
      "image/png": "[encoded data removed]",
      "text/plain": [
       "<Figure size 720x1440 with 2 Axes>"
      ]
     },
     "metadata": {
      "needs_background": "light"
     },
     "output_type": "display_data"
    }
   ],
   "source": [
    "#\n",
    "# Environment parameters\n",
    "#\n",
    "events = [\n",
    "    0, # no action\n",
    "    1, # visit\n",
    "    2  # purchase\n",
    "]\n",
    "offers = [\n",
    "    1, # advertisement\n",
    "    2, # small disocunt\n",
    "    3  # large discount\n",
    "]\n",
    "demogr = [\n",
    "    0, # low sensitivity\n",
    "    1  # high sensitivity\n",
    "]\n",
    "\n",
    "n = 1000 # users\n",
    "k = 100  # time intervals\n",
    "m = 3    # offers\n",
    "\n",
    "#\n",
    "# Auxiliary functions\n",
    "#\n",
    "def multinomial_int(p):\n",
    "    return np.where(np.random.multinomial(1, p) == 1)[0][0]\n",
    "\n",
    "def count(ndarray, val):\n",
    "    return np.count_nonzero(ndarray == val)\n",
    "\n",
    "def index(ndarray, val, default):\n",
    "    try:\n",
    "        return ndarray.tolist().index(val)\n",
    "    except:\n",
    "        return default\n",
    "\n",
    "def find_offer_times(f):\n",
    "    return np.nonzero(f)[0]\n",
    "\n",
    "def offer_seq(f):\n",
    "    return f[np.where(f > 0)]\n",
    "\n",
    "#\n",
    "# Environment simulator\n",
    "#\n",
    "def get_event_pr(d, f):\n",
    "    f_ids = offer_seq(f) \n",
    "    f_ids = np.concatenate((f_ids, np.zeros(3 - len(f_ids))))\n",
    "    \n",
    "    if((f_ids[0] == 1 and f_ids[1] == 3) or \n",
    "       (f_ids[1] == 1 and f_ids[2] == 3) or \n",
    "       (f_ids[0] == 1 and f_ids[2] == 3)): \n",
    "            p_events = [0.70, 0.08, 0.22]     # higher probability of a purchase\n",
    "    else:\n",
    "        p_events = [0.90, 0.08, 0.02]         # default probability distribution over events\n",
    "        \n",
    "    if(np.random.binomial(1, 0.1) > 0):       # add some noise\n",
    "        p_events = [0.70, 0.08, 0.22]\n",
    "    \n",
    "    return p_events\n",
    "\n",
    "def generate_profiles(n, k, m):\n",
    "    \n",
    "    p_offers = [1 / m] * m                                    # offer probabilities (behavioral policy)\n",
    "    t_offers = np.linspace(0, k, m + 2).tolist()[1 : -1]      # offer campaing times\n",
    "    t_offer_jit = 5                                           # offer time jitter, standard deviation in time units \n",
    "    \n",
    "    P = np.zeros((n, k))                                      # matrix of profile events\n",
    "    F = np.zeros((n, k))                                      # offer history\n",
    "    D = np.zeros((n, 1))                                      # demographic features\n",
    "\n",
    "    for u in range(0, n):\n",
    "        D[u, 0] = np.random.binomial(1, 0.5)\n",
    "    \n",
    "        # determine m time points to issue offers for customer u\n",
    "        offer_times_u = np.rint(t_offer_jit * np.random.randn(len(t_offers)) + t_offers)\n",
    "        \n",
    "        for t in range(0, k):                                   # simulate a trajectory for customer u\n",
    "            if t in offer_times_u:\n",
    "                F[u, t] = multinomial_int(p_offers) + 1         # issue an offer at time t according \n",
    "                                                                # to the behavioral policy \n",
    "   \n",
    "            event = multinomial_int(get_event_pr(D[u], F[u]))   # simulate an event at time t\n",
    "            P[u, t] = event\n",
    "        \n",
    "    return P, F, D\n",
    "\n",
    "def visualize_profiles(m):\n",
    "    \n",
    "    max_val = np.max(m)\n",
    "    colors = []\n",
    "    if max_val == 2:\n",
    "        colors = ['white', '#fde725', '#35b779']\n",
    "    if max_val == 3:\n",
    "        colors = ['white', '#440154', '#21918c', '#fde725']\n",
    "    cmap = matplotlib.colors.ListedColormap(colors)\n",
    "    \n",
    "    fig, ax = plt.subplots(figsize=(10, 20))\n",
    "    chart = ax.imshow(m, cmap=cmap, interpolation='none')\n",
    "    ax.set_aspect(0.5 * m.shape[1] / m.shape[0])\n",
    "    ax.grid(True)\n",
    "    ax.set_xlabel('Time')\n",
    "    ax.set_ylabel('User ID')\n",
    "    plt.colorbar(chart, fraction=0.025, pad=0.04, ax=ax)\n",
    "    plt.show() \n",
    "    \n",
    "# training set\n",
    "P, F, D = generate_profiles(n, k, m)\n",
    "# test set\n",
    "Pt, Ft, Dt = generate_profiles(n, k, m)\n",
    "\n",
    "visualize_profiles(P[:50])\n",
    "visualize_profiles(F[:50])"
   ]
  },
  {
   "cell_type": "code",
   "execution_count": null,
   "metadata": {},
   "outputs": [],
   "source": []
  }
 ],
 "metadata": {
  "kernelspec": {
   "display_name": "Python 3",
   "language": "python",
   "name": "python3"
  },
  "language_info": {
   "codemirror_mode": {
    "name": "ipython",
    "version": 3
   },
   "file_extension": ".py",
   "mimetype": "text/x-python",
   "name": "python",
   "nbconvert_exporter": "python",
   "pygments_lexer": "ipython3",
   "version": "3.8.5"
  }
 },
 "nbformat": 4,
 "nbformat_minor": 4
}
