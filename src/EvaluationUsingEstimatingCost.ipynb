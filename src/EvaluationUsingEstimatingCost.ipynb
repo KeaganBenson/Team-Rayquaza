{
 "cells": [
  {
   "cell_type": "code",
   "execution_count": 1,
   "id": "f3f94239",
   "metadata": {},
   "outputs": [],
   "source": [
    "import pandas as pd\n",
    "import Clean\n",
    "import numpy as np"
   ]
  },
  {
   "cell_type": "code",
   "execution_count": 2,
   "id": "7c03a1a4",
   "metadata": {},
   "outputs": [],
   "source": [
    "offers = pd.read_csv(\"offer_acceptance_offers.csv\",low_memory=False)\n",
    "orders = pd.read_csv('offer_acceptance_orders.csv',low_memory=False)\n",
    "orders = Clean.clean_orders(orders)\n",
    "offers = Clean.clean_offers(offers)"
   ]
  },
  {
   "cell_type": "code",
   "execution_count": 3,
   "id": "52cd9edb",
   "metadata": {},
   "outputs": [],
   "source": [
    "# create FTL Orders and Joined DataFrame with FTL Order to Offers\n",
    "ftl = orders[orders['TRANSPORT_MODE'] == 'FTL']\n",
    "join = ftl.set_index('REFERENCE_NUMBER').join(offers.set_index('REFERENCE_NUMBER'),how = 'inner')"
   ]
  },
  {
   "cell_type": "code",
   "execution_count": 4,
   "id": "827126ae",
   "metadata": {},
   "outputs": [
    {
     "name": "stdout",
     "output_type": "stream",
     "text": [
      "(269354, 30)\n",
      "(269354, 30)\n"
     ]
    }
   ],
   "source": [
    "# making sure all offers are quote\n",
    "print(join[join['OFFER_TYPE'] == 'quote'].shape)\n",
    "print(join.shape)"
   ]
  },
  {
   "cell_type": "code",
   "execution_count": 7,
   "id": "ab72b637",
   "metadata": {},
   "outputs": [
    {
     "data": {
      "text/plain": [
       "34158"
      ]
     },
     "execution_count": 7,
     "metadata": {},
     "output_type": "execute_result"
    }
   ],
   "source": [
    "# create data set with only FTL offers and get a list of unique FTL Offers\n",
    "ftlOffers = join[['CARRIER_ID','CREATED_ON_HQ','RATE_USD']].sort_values('CREATED_ON_HQ').head(100000)\n",
    "offersRefNumList = np.unique(ftlOffers.index)\n",
    "len(offersRefNumList)"
   ]
  },
  {
   "cell_type": "code",
   "execution_count": 8,
   "id": "17ede867",
   "metadata": {},
   "outputs": [],
   "source": [
    "refNums = []\n",
    "carrierIDs = []\n",
    "rates = []\n",
    "# loop through unique ref numbers\n",
    "for offerRef in offersRefNumList:\n",
    "    # get the order that goes to a refrence number\n",
    "    order = ftl.loc[ftl['REFERENCE_NUMBER'] == offerRef]\n",
    "    # get the offer as an array\n",
    "    offer = ftlOffers.loc[offerRef].values.tolist()\n",
    "    cost = order['ESTIMATED_COST_AT_ORDER'].reset_index()['ESTIMATED_COST_AT_ORDER'][0] * 1.5\n",
    "    if isinstance(offer[0],str):\n",
    "        if cost > offer[2]:\n",
    "            refNums.append(offerRef)\n",
    "            carrierIDs.append(offer[0])\n",
    "            rates.append(offer[2])\n",
    "    else:\n",
    "        for ind in offer:\n",
    "            if cost > ind[2]:\n",
    "                refNums.append(offerRef)\n",
    "                carrierIDs.append(ind[0])\n",
    "                rates.append(ind[2])\n",
    "                break          "
   ]
  },
  {
   "cell_type": "code",
   "execution_count": 9,
   "id": "61efbc13",
   "metadata": {},
   "outputs": [
    {
     "data": {
      "text/plain": [
       "33551"
      ]
     },
     "execution_count": 9,
     "metadata": {},
     "output_type": "execute_result"
    }
   ],
   "source": [
    "len(refNums)"
   ]
  },
  {
   "cell_type": "code",
   "execution_count": 18,
   "id": "163965ab",
   "metadata": {},
   "outputs": [],
   "source": [
    "flockRate = join[join['LOAD_DELIVERED_FROM_OFFER']]['RATE_USD']"
   ]
  },
  {
   "cell_type": "code",
   "execution_count": 23,
   "id": "c51a5d15",
   "metadata": {},
   "outputs": [],
   "source": [
    "results = pd.DataFrame({'refNums':refNums,'Carriers':carrierIDs,'Rate':rates}).set_index('refNums')\n",
    "results['FlockRate'] = flockRate"
   ]
  },
  {
   "cell_type": "code",
   "execution_count": 31,
   "id": "060ed347",
   "metadata": {},
   "outputs": [
    {
     "data": {
      "text/plain": [
       "2365557.0048"
      ]
     },
     "execution_count": 31,
     "metadata": {},
     "output_type": "execute_result"
    }
   ],
   "source": [
    "results['Difference'] = results['Rate'] - results['FlockRate']\n",
    "results['Difference'].sum()"
   ]
  },
  {
   "cell_type": "code",
   "execution_count": 32,
   "id": "79e18aba",
   "metadata": {},
   "outputs": [
    {
     "data": {
      "text/plain": [
       "33551"
      ]
     },
     "execution_count": 32,
     "metadata": {},
     "output_type": "execute_result"
    }
   ],
   "source": [
    "len(results['Rate'])"
   ]
  },
  {
   "cell_type": "code",
   "execution_count": 35,
   "id": "e6b76095",
   "metadata": {},
   "outputs": [
    {
     "data": {
      "text/plain": [
       "30780"
      ]
     },
     "execution_count": 35,
     "metadata": {},
     "output_type": "execute_result"
    }
   ],
   "source": [
    "len(results['FlockRate'].dropna())"
   ]
  },
  {
   "cell_type": "code",
   "execution_count": null,
   "id": "f7d993f8",
   "metadata": {},
   "outputs": [],
   "source": []
  }
 ],
 "metadata": {
  "kernelspec": {
   "display_name": "Python 3 (clean)",
   "language": "python",
   "name": "python3_clean"
  },
  "language_info": {
   "codemirror_mode": {
    "name": "ipython",
    "version": 3
   },
   "file_extension": ".py",
   "mimetype": "text/x-python",
   "name": "python",
   "nbconvert_exporter": "python",
   "pygments_lexer": "ipython3",
   "version": "3.9.5"
  }
 },
 "nbformat": 4,
 "nbformat_minor": 5
}
