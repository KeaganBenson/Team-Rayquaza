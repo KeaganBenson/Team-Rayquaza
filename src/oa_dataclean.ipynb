{
 "cells": [
  {
   "cell_type": "code",
   "execution_count": 1,
   "metadata": {},
   "outputs": [],
   "source": [
    "import re"
   ]
  },
  {
   "cell_type": "code",
   "execution_count": 2,
   "metadata": {},
   "outputs": [],
   "source": [
    "import os\n",
    "import numpy as np\n",
    "import pandas as pd\n",
    "import matplotlib.pyplot as plt\n",
    "plt.style.use(\"ggplot\")\n",
    "plt.rcParams[\"figure.figsize\"] = (5,3)"
   ]
  },
  {
   "cell_type": "code",
   "execution_count": 3,
   "metadata": {},
   "outputs": [],
   "source": [
    "PATH_FOLDER = \"..\\\\data\""
   ]
  },
  {
   "cell_type": "code",
   "execution_count": 4,
   "metadata": {},
   "outputs": [
    {
     "name": "stderr",
     "output_type": "stream",
     "text": [
      "c:\\users\\benson\\appdata\\local\\programs\\python\\python37\\lib\\site-packages\\IPython\\core\\interactiveshell.py:3249: DtypeWarning: Columns (9,10,11,12,14) have mixed types.Specify dtype option on import or set low_memory=False.\n",
      "  if (await self.run_code(code, result,  async_=asy)):\n"
     ]
    }
   ],
   "source": [
    "import oa_orders_dataclean\n",
    "import oa_offers_dataclean"
   ]
  },
  {
   "cell_type": "code",
   "execution_count": 5,
   "metadata": {},
   "outputs": [],
   "source": [
    "FILENAME_ZIPCODE_COORDINATES = \"zipcode_coordinates.csv\"\n",
    "PATH_FILE_ZIPCODE_COORDINATES = os.path.join(PATH_FOLDER,\"raw\", FILENAME_ZIPCODE_COORDINATES)\n",
    "zipcode_coordinates_orig = pd.read_csv(PATH_FILE_ZIPCODE_COORDINATES)\n",
    "zipcode_coordinates = zipcode_coordinates_orig"
   ]
  },
  {
   "cell_type": "code",
   "execution_count": 6,
   "metadata": {},
   "outputs": [],
   "source": [
    "def groupby_transform_value_count(df_column):\n",
    "    column_name = list(df_column.columns)[0]\n",
    "    temp_counter = df_column[column_name].value_counts()\n",
    "    temp_counter = temp_counter.reset_index().rename(columns={\"index\":column_name,column_name:\"count\"})\n",
    "    df_column = df_column.merge(temp_counter,on=[column_name])\n",
    "    return df_column[\"count\"]\n",
    "def dataclean_ftl_duplicate_references(oa):\n",
    "    '''\n",
    "    Part of a greater data cleaning on removing incorrect FTL labels,\n",
    "    Removes FTL rows that have reference numbers that show up more than once, as those rows are incorrectly labeled FTL\n",
    "    '''\n",
    "    assert \"TRANSPORT_MODE\" in oa.columns\n",
    "    assert \"REFERENCE_NUMBER\" in oa.columns\n",
    "    oa_ftl = oa[oa[\"TRANSPORT_MODE\"]==\"FTL\"]\n",
    "    temp_counter = oa_ftl[\"REFERENCE_NUMBER\"].value_counts()\n",
    "    temp_counter = temp_counter.reset_index().rename(columns={\"index\":\"REFERENCE_NUMBER\",\"REFERENCE_NUMBER\":\"count\"})\n",
    "    oa_ftl_counted = oa_ftl.merge(temp_counter,on=[\"REFERENCE_NUMBER\"])\n",
    "    oa_ftl_duplicate_reference_numbers = oa_ftl_counted[oa_ftl_counted[\"count\"]>1]\n",
    "    oa = oa.drop(list(oa_ftl_duplicate_reference_numbers.index), axis=0)    \n",
    "    return oa\n",
    "\n",
    "def dataclean_ftl_nonquote(oa):\n",
    "    '''\n",
    "    Part of a greater data cleaning on removing incorrect FTL labels,\n",
    "    Removes FTL rows that don't have quote as the transport mode\n",
    "    '''\n",
    "    assert \"OFFER_TYPE\" in oa.columns\n",
    "    assert \"TRANSPORT_MODE\" in oa.columns    \n",
    "    oa = oa[~((oa[\"TRANSPORT_MODE\"]==\"FTL\") & (oa[\"OFFER_TYPE\"]!=\"quote\"))]\n",
    "    return oa\n"
   ]
  },
  {
   "cell_type": "code",
   "execution_count": 7,
   "metadata": {},
   "outputs": [],
   "source": [
    "data_clean_first_time = 0\n",
    "\n",
    "PATH_FILE_OA_OFFERS = os.path.join(PATH_FOLDER,\"temp\",oa_offers_dataclean.FILENAME_OA_OFFERS)\n",
    "\n",
    "if data_clean_first_time:\n",
    "    oa_offers = oa_offers_dataclean.oa_offers\n",
    "    oa_offers = oa_offers_dataclean.dataclean(oa_offers)\n",
    "    oa_offers.to_csv(PATH_FILE_OA_OFFERS,index=False)\n",
    "else:\n",
    "    oa_offers = pd.read_csv(PATH_FILE_OA_OFFERS)"
   ]
  },
  {
   "cell_type": "code",
   "execution_count": 8,
   "metadata": {},
   "outputs": [
    {
     "name": "stderr",
     "output_type": "stream",
     "text": [
      "C:\\Users\\Benson\\Desktop\\2022_fall\\dsc180a\\data_oa\\src\\oa_orders_dataclean.py:60: FutureWarning: The default value of regex will change from True to False in a future version. In addition, single character regular expressions will*not* be treated as literal strings when regex=True.\n",
      "  ).str.replace(\"[\",\"\"\n",
      "C:\\Users\\Benson\\Desktop\\2022_fall\\dsc180a\\data_oa\\src\\oa_orders_dataclean.py:61: FutureWarning: The default value of regex will change from True to False in a future version. In addition, single character regular expressions will*not* be treated as literal strings when regex=True.\n",
      "  ).str.replace(\"]\",\"\"\n"
     ]
    }
   ],
   "source": [
    "data_clean_first_time = 0\n",
    "\n",
    "PATH_FILE_OA_ORDERS = os.path.join(PATH_FOLDER,\"temp\",oa_orders_dataclean.FILENAME_OA_ORDERS)\n",
    "\n",
    "if data_clean_first_time:\n",
    "    oa_orders = oa_orders_dataclean.oa_orders\n",
    "    oa_orders = oa_orders_dataclean.dataclean(oa_orders)\n",
    "    oa_orders.to_csv(PATH_FILE_OA_ORDERS,index=False)\n",
    "else:\n",
    "    oa_orders = pd.read_csv(PATH_FILE_OA_ORDERS)"
   ]
  },
  {
   "cell_type": "code",
   "execution_count": 9,
   "metadata": {},
   "outputs": [],
   "source": [
    "def dataclean():\n",
    "    global oa_orders, oa_offers,zipcode_coordinates\n",
    "    print(\"oa_orders.shape\",oa_orders.shape)\n",
    "    zipcode_coordinates[\"3DIGIT_ZIP\"] =  zipcode_coordinates[\"3DIGIT_ZIP\"].astype(str).str.zfill(3)\n",
    "    oa_orders = oa_orders.merge(zipcode_coordinates, \n",
    "                                left_on=[\"ORIGIN_3DIGIT_ZIP\"],\n",
    "                                right_on=[\"3DIGIT_ZIP\"],\n",
    "                                 suffixes=(None, \"_ORIG\")\n",
    "                               )\n",
    "\n",
    "    oa_orders = oa_orders.merge(zipcode_coordinates, \n",
    "                                left_on=[\"DESTINATION_3DIGIT_ZIP\"],\n",
    "                                right_on=[\"3DIGIT_ZIP\"],\n",
    "                                 suffixes=(None, \"_DEST\")\n",
    "                               )\n",
    "    print(\"oa_orders.shape after geo join\",oa_orders.shape)\n",
    "    #oa_orders = dataclean_ftl_duplicate_references(oa_orders)\n",
    "\n",
    "    oa = oa_orders.merge(oa_offers, on=[\"REFERENCE_NUMBER\"],how=\"inner\")\n",
    "    print(\"oa.shape\",oa.shape)\n",
    "    oa = dataclean_ftl_nonquote(oa)\n",
    "    print(\"oa.shape after cleaning ftl\",oa.shape)\n",
    "    return oa"
   ]
  },
  {
   "cell_type": "code",
   "execution_count": 10,
   "metadata": {},
   "outputs": [
    {
     "name": "stdout",
     "output_type": "stream",
     "text": [
      "oa_orders.shape (280842, 24)\n",
      "oa_orders.shape after geo join (280271, 30)\n",
      "oa.shape (833321, 47)\n",
      "oa.shape after cleaning ftl (833022, 47)\n"
     ]
    }
   ],
   "source": [
    "data_clean_first_time = 0\n",
    "\n",
    "FILENAME_OA = \"oa.csv\"\n",
    "\n",
    "PATH_FILE_OA = os.path.join(PATH_FOLDER,\"temp\",FILENAME_OA)\n",
    "\n",
    "if data_clean_first_time:\n",
    "    oa = dataclean()\n",
    "    oa.to_csv(PATH_FILE_OA,index=False)\n",
    "else:\n",
    "    oa = pd.read_csv(PATH_FILE_OA)"
   ]
  },
  {
   "cell_type": "code",
   "execution_count": null,
   "metadata": {},
   "outputs": [],
   "source": []
  }
 ],
 "metadata": {
  "kernelspec": {
   "display_name": "Python 3",
   "language": "python",
   "name": "python3"
  },
  "language_info": {
   "codemirror_mode": {
    "name": "ipython",
    "version": 3
   },
   "file_extension": ".py",
   "mimetype": "text/x-python",
   "name": "python",
   "nbconvert_exporter": "python",
   "pygments_lexer": "ipython3",
   "version": "3.7.4"
  }
 },
 "nbformat": 4,
 "nbformat_minor": 2
}
